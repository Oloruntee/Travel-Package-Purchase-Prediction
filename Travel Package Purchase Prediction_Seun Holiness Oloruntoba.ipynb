{
 "cells": [
  {
   "cell_type": "markdown",
   "metadata": {},
   "source": [
    "## Seun Holiness Oloruntoba\n",
    "\n",
    "### Ensemble Project to:\n",
    "\n",
    "### \"predict which customer is more likely to purchase a newly introduced travel package\" "
   ]
  },
  {
   "cell_type": "markdown",
   "metadata": {},
   "source": [
    "### Background and Context\n",
    "\n",
    "You are a Data Scientist for a tourism company named \"Visit with us\". The Policy Maker of the company wants to enable and establish a viable business model to expand the customer base.\n",
    "\n",
    "A viable business model is a central concept that helps you to understand the existing ways of doing the business and how to change the ways for the benefit of the tourism sector.\n",
    "\n",
    "One of the ways to expand the customer base is to introduce a new offering of packages.\n",
    "\n",
    "Currently, there are 5 types of packages the company is offering - Basic, Standard, Deluxe, Super Deluxe, King. Looking at the data of the last year, we observed that 18% of the customers purchased the packages.\n",
    "\n",
    "However, the marketing cost was quite high because customers were contacted at random without looking at the available information.\n",
    "\n",
    "The company is now planning to launch a new product i.e. Wellness Tourism Package. Wellness Tourism is defined as Travel that allows the traveler to maintain, enhance or kick-start a healthy lifestyle, and support or increase one's sense of well-being.\n",
    "\n",
    "However, this time company wants to harness the available data of existing and potential customers to make the marketing expenditure more efficient.\n",
    "\n",
    "You as a Data Scientist at \"Visit with us\" travel company have to analyze the customers' data and information to provide recommendations to the Policy Maker and Marketing Team and also build a model to predict the potential customer who is going to purchase the newly introduced travel package.\n",
    "\n",
    "Objective\n",
    "\n",
    "#### To predict which customer is more likely to purchase the newly introduced travel package.\n",
    "\n",
    "Data Dictionary\n",
    "\n",
    "Customer details:\n",
    "\n",
    "CustomerID: Unique customer ID\n",
    "ProdTaken: Whether the customer has purchased a package or not (0: No, 1: Yes)\n",
    "Age: Age of customer\n",
    "TypeofContact: How customer was contacted (Company Invited or Self Inquiry)\n",
    "CityTier: City tier depends on the development of a city, population, facilities, and living standards. The categories are ordered i.e. Tier 1 > Tier 2 > Tier 3\n",
    "Occupation: Occupation of customer\n",
    "Gender: Gender of customer\n",
    "NumberOfPersonVisiting: Total number of persons planning to take the trip with the customer\n",
    "PreferredPropertyStar: Preferred hotel property rating by customer\n",
    "MaritalStatus: Marital status of customer\n",
    "NumberOfTrips: Average number of trips in a year by customer\n",
    "Passport: The customer has a passport or not (0: No, 1: Yes)\n",
    "OwnCar: Whether the customers own a car or not (0: No, 1: Yes)\n",
    "NumberOfChildrenVisiting: Total number of children with age less than 5 planning to take the trip with the customer\n",
    "Designation: Designation of the customer in the current organization\n",
    "MonthlyIncome: Gross monthly income of the customer\n",
    "Customer interaction data: \n",
    "\n",
    "PitchSatisfactionScore: Sales pitch satisfaction score\n",
    "ProductPitched: Product pitched by the salesperson\n",
    "NumberOfFollowups: Total number of follow-ups has been done by the salesperson after the sales pitch\n",
    "DurationOfPitch: Duration of the pitch by a salesperson to the customer"
   ]
  },
  {
   "cell_type": "code",
   "execution_count": 100,
   "metadata": {},
   "outputs": [],
   "source": [
    "# Library to suppress warnings or deprecation notes \n",
    "import warnings\n",
    "warnings.filterwarnings('ignore')\n",
    "\n",
    "# Libraries to help with reading and manipulating data\n",
    "import numpy as np\n",
    "import pandas as pd\n",
    "\n",
    "# Libraries to help with data visualization\n",
    "import matplotlib.pyplot as plt\n",
    "%matplotlib inline\n",
    "import seaborn as sns\n",
    "\n",
    "# Libraries to split data, impute missing values \n",
    "from sklearn.model_selection import train_test_split\n",
    "\n",
    "# Libraries to import decision tree classifier and different ensemble classifiers\n",
    "from sklearn.ensemble import BaggingClassifier\n",
    "from sklearn.ensemble import RandomForestClassifier\n",
    "from sklearn.ensemble import AdaBoostClassifier, GradientBoostingClassifier\n",
    "from xgboost import XGBClassifier\n",
    "from sklearn.ensemble import StackingClassifier\n",
    "from sklearn.tree import DecisionTreeClassifier\n",
    "\n",
    "# Libtune to tune model, get different metric scores\n",
    "from sklearn import metrics\n",
    "from sklearn.metrics import confusion_matrix, classification_report, accuracy_score, precision_score, recall_score, f1_score, roc_auc_score\n",
    "from sklearn.model_selection import GridSearchCV"
   ]
  },
  {
   "cell_type": "code",
   "execution_count": 101,
   "metadata": {},
   "outputs": [],
   "source": [
    "#Import data from excel sheet 'Tourism'file(Sheet_2)\n",
    "Travel = pd.read_excel('Tourism.xlsx',index_col=0, sheet_name='Tourism')"
   ]
  },
  {
   "cell_type": "code",
   "execution_count": 102,
   "metadata": {},
   "outputs": [],
   "source": [
    "# copy data to another varaible to avoid any change to original data\n",
    "Travel_data = Travel.copy()"
   ]
  },
  {
   "cell_type": "code",
   "execution_count": 103,
   "metadata": {},
   "outputs": [
    {
     "data": {
      "text/html": [
       "<div>\n",
       "<style scoped>\n",
       "    .dataframe tbody tr th:only-of-type {\n",
       "        vertical-align: middle;\n",
       "    }\n",
       "\n",
       "    .dataframe tbody tr th {\n",
       "        vertical-align: top;\n",
       "    }\n",
       "\n",
       "    .dataframe thead th {\n",
       "        text-align: right;\n",
       "    }\n",
       "</style>\n",
       "<table border=\"1\" class=\"dataframe\">\n",
       "  <thead>\n",
       "    <tr style=\"text-align: right;\">\n",
       "      <th></th>\n",
       "      <th>ProdTaken</th>\n",
       "      <th>Age</th>\n",
       "      <th>TypeofContact</th>\n",
       "      <th>CityTier</th>\n",
       "      <th>DurationOfPitch</th>\n",
       "      <th>Occupation</th>\n",
       "      <th>Gender</th>\n",
       "      <th>NumberOfPersonVisiting</th>\n",
       "      <th>NumberOfFollowups</th>\n",
       "      <th>ProductPitched</th>\n",
       "      <th>PreferredPropertyStar</th>\n",
       "      <th>MaritalStatus</th>\n",
       "      <th>NumberOfTrips</th>\n",
       "      <th>Passport</th>\n",
       "      <th>PitchSatisfactionScore</th>\n",
       "      <th>OwnCar</th>\n",
       "      <th>NumberOfChildrenVisiting</th>\n",
       "      <th>Designation</th>\n",
       "      <th>MonthlyIncome</th>\n",
       "    </tr>\n",
       "    <tr>\n",
       "      <th>CustomerID</th>\n",
       "      <th></th>\n",
       "      <th></th>\n",
       "      <th></th>\n",
       "      <th></th>\n",
       "      <th></th>\n",
       "      <th></th>\n",
       "      <th></th>\n",
       "      <th></th>\n",
       "      <th></th>\n",
       "      <th></th>\n",
       "      <th></th>\n",
       "      <th></th>\n",
       "      <th></th>\n",
       "      <th></th>\n",
       "      <th></th>\n",
       "      <th></th>\n",
       "      <th></th>\n",
       "      <th></th>\n",
       "      <th></th>\n",
       "    </tr>\n",
       "  </thead>\n",
       "  <tbody>\n",
       "    <tr>\n",
       "      <th>200000</th>\n",
       "      <td>1</td>\n",
       "      <td>41.0</td>\n",
       "      <td>Self Enquiry</td>\n",
       "      <td>3</td>\n",
       "      <td>6.0</td>\n",
       "      <td>Salaried</td>\n",
       "      <td>Female</td>\n",
       "      <td>3</td>\n",
       "      <td>3.0</td>\n",
       "      <td>Deluxe</td>\n",
       "      <td>3.0</td>\n",
       "      <td>Single</td>\n",
       "      <td>1.0</td>\n",
       "      <td>1</td>\n",
       "      <td>2</td>\n",
       "      <td>1</td>\n",
       "      <td>0.0</td>\n",
       "      <td>Manager</td>\n",
       "      <td>20993.0</td>\n",
       "    </tr>\n",
       "    <tr>\n",
       "      <th>200001</th>\n",
       "      <td>0</td>\n",
       "      <td>49.0</td>\n",
       "      <td>Company Invited</td>\n",
       "      <td>1</td>\n",
       "      <td>14.0</td>\n",
       "      <td>Salaried</td>\n",
       "      <td>Male</td>\n",
       "      <td>3</td>\n",
       "      <td>4.0</td>\n",
       "      <td>Deluxe</td>\n",
       "      <td>4.0</td>\n",
       "      <td>Divorced</td>\n",
       "      <td>2.0</td>\n",
       "      <td>0</td>\n",
       "      <td>3</td>\n",
       "      <td>1</td>\n",
       "      <td>2.0</td>\n",
       "      <td>Manager</td>\n",
       "      <td>20130.0</td>\n",
       "    </tr>\n",
       "    <tr>\n",
       "      <th>200002</th>\n",
       "      <td>1</td>\n",
       "      <td>37.0</td>\n",
       "      <td>Self Enquiry</td>\n",
       "      <td>1</td>\n",
       "      <td>8.0</td>\n",
       "      <td>Free Lancer</td>\n",
       "      <td>Male</td>\n",
       "      <td>3</td>\n",
       "      <td>4.0</td>\n",
       "      <td>Basic</td>\n",
       "      <td>3.0</td>\n",
       "      <td>Single</td>\n",
       "      <td>7.0</td>\n",
       "      <td>1</td>\n",
       "      <td>3</td>\n",
       "      <td>0</td>\n",
       "      <td>0.0</td>\n",
       "      <td>Executive</td>\n",
       "      <td>17090.0</td>\n",
       "    </tr>\n",
       "    <tr>\n",
       "      <th>200003</th>\n",
       "      <td>0</td>\n",
       "      <td>33.0</td>\n",
       "      <td>Company Invited</td>\n",
       "      <td>1</td>\n",
       "      <td>9.0</td>\n",
       "      <td>Salaried</td>\n",
       "      <td>Female</td>\n",
       "      <td>2</td>\n",
       "      <td>3.0</td>\n",
       "      <td>Basic</td>\n",
       "      <td>3.0</td>\n",
       "      <td>Divorced</td>\n",
       "      <td>2.0</td>\n",
       "      <td>1</td>\n",
       "      <td>5</td>\n",
       "      <td>1</td>\n",
       "      <td>1.0</td>\n",
       "      <td>Executive</td>\n",
       "      <td>17909.0</td>\n",
       "    </tr>\n",
       "    <tr>\n",
       "      <th>200004</th>\n",
       "      <td>0</td>\n",
       "      <td>NaN</td>\n",
       "      <td>Self Enquiry</td>\n",
       "      <td>1</td>\n",
       "      <td>8.0</td>\n",
       "      <td>Small Business</td>\n",
       "      <td>Male</td>\n",
       "      <td>2</td>\n",
       "      <td>3.0</td>\n",
       "      <td>Basic</td>\n",
       "      <td>4.0</td>\n",
       "      <td>Divorced</td>\n",
       "      <td>1.0</td>\n",
       "      <td>0</td>\n",
       "      <td>5</td>\n",
       "      <td>1</td>\n",
       "      <td>0.0</td>\n",
       "      <td>Executive</td>\n",
       "      <td>18468.0</td>\n",
       "    </tr>\n",
       "  </tbody>\n",
       "</table>\n",
       "</div>"
      ],
      "text/plain": [
       "            ProdTaken   Age    TypeofContact  CityTier  DurationOfPitch  \\\n",
       "CustomerID                                                                \n",
       "200000              1  41.0     Self Enquiry         3              6.0   \n",
       "200001              0  49.0  Company Invited         1             14.0   \n",
       "200002              1  37.0     Self Enquiry         1              8.0   \n",
       "200003              0  33.0  Company Invited         1              9.0   \n",
       "200004              0   NaN     Self Enquiry         1              8.0   \n",
       "\n",
       "                Occupation  Gender  NumberOfPersonVisiting  NumberOfFollowups  \\\n",
       "CustomerID                                                                      \n",
       "200000            Salaried  Female                       3                3.0   \n",
       "200001            Salaried    Male                       3                4.0   \n",
       "200002         Free Lancer    Male                       3                4.0   \n",
       "200003            Salaried  Female                       2                3.0   \n",
       "200004      Small Business    Male                       2                3.0   \n",
       "\n",
       "           ProductPitched  PreferredPropertyStar MaritalStatus  NumberOfTrips  \\\n",
       "CustomerID                                                                      \n",
       "200000             Deluxe                    3.0        Single            1.0   \n",
       "200001             Deluxe                    4.0      Divorced            2.0   \n",
       "200002              Basic                    3.0        Single            7.0   \n",
       "200003              Basic                    3.0      Divorced            2.0   \n",
       "200004              Basic                    4.0      Divorced            1.0   \n",
       "\n",
       "            Passport  PitchSatisfactionScore  OwnCar  \\\n",
       "CustomerID                                             \n",
       "200000             1                       2       1   \n",
       "200001             0                       3       1   \n",
       "200002             1                       3       0   \n",
       "200003             1                       5       1   \n",
       "200004             0                       5       1   \n",
       "\n",
       "            NumberOfChildrenVisiting Designation  MonthlyIncome  \n",
       "CustomerID                                                       \n",
       "200000                           0.0     Manager        20993.0  \n",
       "200001                           2.0     Manager        20130.0  \n",
       "200002                           0.0   Executive        17090.0  \n",
       "200003                           1.0   Executive        17909.0  \n",
       "200004                           0.0   Executive        18468.0  "
      ]
     },
     "execution_count": 103,
     "metadata": {},
     "output_type": "execute_result"
    }
   ],
   "source": [
    "#View the first 5 Observation of the dataset\n",
    "Travel_data.head()"
   ]
  },
  {
   "cell_type": "code",
   "execution_count": 104,
   "metadata": {},
   "outputs": [
    {
     "data": {
      "text/html": [
       "<div>\n",
       "<style scoped>\n",
       "    .dataframe tbody tr th:only-of-type {\n",
       "        vertical-align: middle;\n",
       "    }\n",
       "\n",
       "    .dataframe tbody tr th {\n",
       "        vertical-align: top;\n",
       "    }\n",
       "\n",
       "    .dataframe thead th {\n",
       "        text-align: right;\n",
       "    }\n",
       "</style>\n",
       "<table border=\"1\" class=\"dataframe\">\n",
       "  <thead>\n",
       "    <tr style=\"text-align: right;\">\n",
       "      <th></th>\n",
       "      <th>ProdTaken</th>\n",
       "      <th>Age</th>\n",
       "      <th>TypeofContact</th>\n",
       "      <th>CityTier</th>\n",
       "      <th>DurationOfPitch</th>\n",
       "      <th>Occupation</th>\n",
       "      <th>Gender</th>\n",
       "      <th>NumberOfPersonVisiting</th>\n",
       "      <th>NumberOfFollowups</th>\n",
       "      <th>ProductPitched</th>\n",
       "      <th>PreferredPropertyStar</th>\n",
       "      <th>MaritalStatus</th>\n",
       "      <th>NumberOfTrips</th>\n",
       "      <th>Passport</th>\n",
       "      <th>PitchSatisfactionScore</th>\n",
       "      <th>OwnCar</th>\n",
       "      <th>NumberOfChildrenVisiting</th>\n",
       "      <th>Designation</th>\n",
       "      <th>MonthlyIncome</th>\n",
       "    </tr>\n",
       "    <tr>\n",
       "      <th>CustomerID</th>\n",
       "      <th></th>\n",
       "      <th></th>\n",
       "      <th></th>\n",
       "      <th></th>\n",
       "      <th></th>\n",
       "      <th></th>\n",
       "      <th></th>\n",
       "      <th></th>\n",
       "      <th></th>\n",
       "      <th></th>\n",
       "      <th></th>\n",
       "      <th></th>\n",
       "      <th></th>\n",
       "      <th></th>\n",
       "      <th></th>\n",
       "      <th></th>\n",
       "      <th></th>\n",
       "      <th></th>\n",
       "      <th></th>\n",
       "    </tr>\n",
       "  </thead>\n",
       "  <tbody>\n",
       "    <tr>\n",
       "      <th>204883</th>\n",
       "      <td>1</td>\n",
       "      <td>49.0</td>\n",
       "      <td>Self Enquiry</td>\n",
       "      <td>3</td>\n",
       "      <td>9.0</td>\n",
       "      <td>Small Business</td>\n",
       "      <td>Male</td>\n",
       "      <td>3</td>\n",
       "      <td>5.0</td>\n",
       "      <td>Deluxe</td>\n",
       "      <td>4.0</td>\n",
       "      <td>Unmarried</td>\n",
       "      <td>2.0</td>\n",
       "      <td>1</td>\n",
       "      <td>1</td>\n",
       "      <td>1</td>\n",
       "      <td>1.0</td>\n",
       "      <td>Manager</td>\n",
       "      <td>26576.0</td>\n",
       "    </tr>\n",
       "    <tr>\n",
       "      <th>204884</th>\n",
       "      <td>1</td>\n",
       "      <td>28.0</td>\n",
       "      <td>Company Invited</td>\n",
       "      <td>1</td>\n",
       "      <td>31.0</td>\n",
       "      <td>Salaried</td>\n",
       "      <td>Male</td>\n",
       "      <td>4</td>\n",
       "      <td>5.0</td>\n",
       "      <td>Basic</td>\n",
       "      <td>3.0</td>\n",
       "      <td>Single</td>\n",
       "      <td>3.0</td>\n",
       "      <td>1</td>\n",
       "      <td>3</td>\n",
       "      <td>1</td>\n",
       "      <td>2.0</td>\n",
       "      <td>Executive</td>\n",
       "      <td>21212.0</td>\n",
       "    </tr>\n",
       "    <tr>\n",
       "      <th>204885</th>\n",
       "      <td>1</td>\n",
       "      <td>52.0</td>\n",
       "      <td>Self Enquiry</td>\n",
       "      <td>3</td>\n",
       "      <td>17.0</td>\n",
       "      <td>Salaried</td>\n",
       "      <td>Female</td>\n",
       "      <td>4</td>\n",
       "      <td>4.0</td>\n",
       "      <td>Standard</td>\n",
       "      <td>4.0</td>\n",
       "      <td>Married</td>\n",
       "      <td>7.0</td>\n",
       "      <td>0</td>\n",
       "      <td>1</td>\n",
       "      <td>1</td>\n",
       "      <td>3.0</td>\n",
       "      <td>Senior Manager</td>\n",
       "      <td>31820.0</td>\n",
       "    </tr>\n",
       "    <tr>\n",
       "      <th>204886</th>\n",
       "      <td>1</td>\n",
       "      <td>19.0</td>\n",
       "      <td>Self Enquiry</td>\n",
       "      <td>3</td>\n",
       "      <td>16.0</td>\n",
       "      <td>Small Business</td>\n",
       "      <td>Male</td>\n",
       "      <td>3</td>\n",
       "      <td>4.0</td>\n",
       "      <td>Basic</td>\n",
       "      <td>3.0</td>\n",
       "      <td>Single</td>\n",
       "      <td>3.0</td>\n",
       "      <td>0</td>\n",
       "      <td>5</td>\n",
       "      <td>0</td>\n",
       "      <td>2.0</td>\n",
       "      <td>Executive</td>\n",
       "      <td>20289.0</td>\n",
       "    </tr>\n",
       "    <tr>\n",
       "      <th>204887</th>\n",
       "      <td>1</td>\n",
       "      <td>36.0</td>\n",
       "      <td>Self Enquiry</td>\n",
       "      <td>1</td>\n",
       "      <td>14.0</td>\n",
       "      <td>Salaried</td>\n",
       "      <td>Male</td>\n",
       "      <td>4</td>\n",
       "      <td>4.0</td>\n",
       "      <td>Basic</td>\n",
       "      <td>4.0</td>\n",
       "      <td>Unmarried</td>\n",
       "      <td>3.0</td>\n",
       "      <td>1</td>\n",
       "      <td>3</td>\n",
       "      <td>1</td>\n",
       "      <td>2.0</td>\n",
       "      <td>Executive</td>\n",
       "      <td>24041.0</td>\n",
       "    </tr>\n",
       "  </tbody>\n",
       "</table>\n",
       "</div>"
      ],
      "text/plain": [
       "            ProdTaken   Age    TypeofContact  CityTier  DurationOfPitch  \\\n",
       "CustomerID                                                                \n",
       "204883              1  49.0     Self Enquiry         3              9.0   \n",
       "204884              1  28.0  Company Invited         1             31.0   \n",
       "204885              1  52.0     Self Enquiry         3             17.0   \n",
       "204886              1  19.0     Self Enquiry         3             16.0   \n",
       "204887              1  36.0     Self Enquiry         1             14.0   \n",
       "\n",
       "                Occupation  Gender  NumberOfPersonVisiting  NumberOfFollowups  \\\n",
       "CustomerID                                                                      \n",
       "204883      Small Business    Male                       3                5.0   \n",
       "204884            Salaried    Male                       4                5.0   \n",
       "204885            Salaried  Female                       4                4.0   \n",
       "204886      Small Business    Male                       3                4.0   \n",
       "204887            Salaried    Male                       4                4.0   \n",
       "\n",
       "           ProductPitched  PreferredPropertyStar MaritalStatus  NumberOfTrips  \\\n",
       "CustomerID                                                                      \n",
       "204883             Deluxe                    4.0     Unmarried            2.0   \n",
       "204884              Basic                    3.0        Single            3.0   \n",
       "204885           Standard                    4.0       Married            7.0   \n",
       "204886              Basic                    3.0        Single            3.0   \n",
       "204887              Basic                    4.0     Unmarried            3.0   \n",
       "\n",
       "            Passport  PitchSatisfactionScore  OwnCar  \\\n",
       "CustomerID                                             \n",
       "204883             1                       1       1   \n",
       "204884             1                       3       1   \n",
       "204885             0                       1       1   \n",
       "204886             0                       5       0   \n",
       "204887             1                       3       1   \n",
       "\n",
       "            NumberOfChildrenVisiting     Designation  MonthlyIncome  \n",
       "CustomerID                                                           \n",
       "204883                           1.0         Manager        26576.0  \n",
       "204884                           2.0       Executive        21212.0  \n",
       "204885                           3.0  Senior Manager        31820.0  \n",
       "204886                           2.0       Executive        20289.0  \n",
       "204887                           2.0       Executive        24041.0  "
      ]
     },
     "execution_count": 104,
     "metadata": {},
     "output_type": "execute_result"
    }
   ],
   "source": [
    "#View the last 5 Observations of the dataset\n",
    "Travel_data.tail()"
   ]
  },
  {
   "cell_type": "code",
   "execution_count": 105,
   "metadata": {},
   "outputs": [
    {
     "data": {
      "text/plain": [
       "(4888, 19)"
      ]
     },
     "execution_count": 105,
     "metadata": {},
     "output_type": "execute_result"
    }
   ],
   "source": [
    "#Understand the shape of the data\n",
    "Travel_data.shape"
   ]
  },
  {
   "cell_type": "markdown",
   "metadata": {},
   "source": [
    "### Observation\n",
    "There are 4888 Observations and 19 columns(features)in the data"
   ]
  },
  {
   "cell_type": "code",
   "execution_count": 106,
   "metadata": {},
   "outputs": [
    {
     "name": "stdout",
     "output_type": "stream",
     "text": [
      "<class 'pandas.core.frame.DataFrame'>\n",
      "Int64Index: 4888 entries, 200000 to 204887\n",
      "Data columns (total 19 columns):\n",
      " #   Column                    Non-Null Count  Dtype  \n",
      "---  ------                    --------------  -----  \n",
      " 0   ProdTaken                 4888 non-null   int64  \n",
      " 1   Age                       4662 non-null   float64\n",
      " 2   TypeofContact             4863 non-null   object \n",
      " 3   CityTier                  4888 non-null   int64  \n",
      " 4   DurationOfPitch           4637 non-null   float64\n",
      " 5   Occupation                4888 non-null   object \n",
      " 6   Gender                    4888 non-null   object \n",
      " 7   NumberOfPersonVisiting    4888 non-null   int64  \n",
      " 8   NumberOfFollowups         4843 non-null   float64\n",
      " 9   ProductPitched            4888 non-null   object \n",
      " 10  PreferredPropertyStar     4862 non-null   float64\n",
      " 11  MaritalStatus             4888 non-null   object \n",
      " 12  NumberOfTrips             4748 non-null   float64\n",
      " 13  Passport                  4888 non-null   int64  \n",
      " 14  PitchSatisfactionScore    4888 non-null   int64  \n",
      " 15  OwnCar                    4888 non-null   int64  \n",
      " 16  NumberOfChildrenVisiting  4822 non-null   float64\n",
      " 17  Designation               4888 non-null   object \n",
      " 18  MonthlyIncome             4655 non-null   float64\n",
      "dtypes: float64(7), int64(6), object(6)\n",
      "memory usage: 763.8+ KB\n"
     ]
    }
   ],
   "source": [
    "#Check the data types of the columns\n",
    "Travel_data.info()"
   ]
  },
  {
   "cell_type": "markdown",
   "metadata": {},
   "source": [
    "### Observation\n",
    "There are Objects, Floats and Integers data types; The Objects would be converted to category to save some space and also makes it easy to model, some float would be converted to integer, while some integer would be converted to category.\n",
    "\n",
    "Each of the data would be reviewed and converted for approriateness of the best data type that would help the modelling and also communicate appropriately the intent of Observation. "
   ]
  },
  {
   "cell_type": "code",
   "execution_count": 107,
   "metadata": {},
   "outputs": [
    {
     "data": {
      "text/plain": [
       "ProdTaken                     0\n",
       "Age                         226\n",
       "TypeofContact                25\n",
       "CityTier                      0\n",
       "DurationOfPitch             251\n",
       "Occupation                    0\n",
       "Gender                        0\n",
       "NumberOfPersonVisiting        0\n",
       "NumberOfFollowups            45\n",
       "ProductPitched                0\n",
       "PreferredPropertyStar        26\n",
       "MaritalStatus                 0\n",
       "NumberOfTrips               140\n",
       "Passport                      0\n",
       "PitchSatisfactionScore        0\n",
       "OwnCar                        0\n",
       "NumberOfChildrenVisiting     66\n",
       "Designation                   0\n",
       "MonthlyIncome               233\n",
       "dtype: int64"
      ]
     },
     "execution_count": 107,
     "metadata": {},
     "output_type": "execute_result"
    }
   ],
   "source": [
    "#Check for null values \n",
    "Travel_data.isna().sum()"
   ]
  },
  {
   "cell_type": "markdown",
   "metadata": {},
   "source": [
    "### Observation\n",
    "The following features has null values : Age - 226, Typeof Contract - 25, Durationof Pitch - 251, Numberoffollowups - 45, PreferredPropertyStar - 26, NumberofTrips - 140, Numberof ChildrenVisiting - 66, Monthly income - 233. These null values would be reviewed to determine if they should be removed or replaced with mean, median, mode or otherwise. "
   ]
  },
  {
   "cell_type": "code",
   "execution_count": 108,
   "metadata": {},
   "outputs": [],
   "source": [
    "#Change all the Objects to Categorical variable\n",
    "cols = Travel_data.select_dtypes(['object'])\n",
    "cols.columns\n",
    "for i in cols.columns:\n",
    "    Travel_data[i] = Travel_data[i].astype('category')"
   ]
  },
  {
   "cell_type": "code",
   "execution_count": 109,
   "metadata": {},
   "outputs": [
    {
     "name": "stdout",
     "output_type": "stream",
     "text": [
      "<class 'pandas.core.frame.DataFrame'>\n",
      "Int64Index: 4888 entries, 200000 to 204887\n",
      "Data columns (total 19 columns):\n",
      " #   Column                    Non-Null Count  Dtype   \n",
      "---  ------                    --------------  -----   \n",
      " 0   ProdTaken                 4888 non-null   int64   \n",
      " 1   Age                       4662 non-null   float64 \n",
      " 2   TypeofContact             4863 non-null   category\n",
      " 3   CityTier                  4888 non-null   int64   \n",
      " 4   DurationOfPitch           4637 non-null   float64 \n",
      " 5   Occupation                4888 non-null   category\n",
      " 6   Gender                    4888 non-null   category\n",
      " 7   NumberOfPersonVisiting    4888 non-null   int64   \n",
      " 8   NumberOfFollowups         4843 non-null   float64 \n",
      " 9   ProductPitched            4888 non-null   category\n",
      " 10  PreferredPropertyStar     4862 non-null   float64 \n",
      " 11  MaritalStatus             4888 non-null   category\n",
      " 12  NumberOfTrips             4748 non-null   float64 \n",
      " 13  Passport                  4888 non-null   int64   \n",
      " 14  PitchSatisfactionScore    4888 non-null   int64   \n",
      " 15  OwnCar                    4888 non-null   int64   \n",
      " 16  NumberOfChildrenVisiting  4822 non-null   float64 \n",
      " 17  Designation               4888 non-null   category\n",
      " 18  MonthlyIncome             4655 non-null   float64 \n",
      "dtypes: category(6), float64(7), int64(6)\n",
      "memory usage: 564.2 KB\n"
     ]
    }
   ],
   "source": [
    "#Confirm the data types after conversion\n",
    "Travel_data.info()"
   ]
  },
  {
   "cell_type": "markdown",
   "metadata": {},
   "source": [
    "### Observation:\n",
    "All the Object data types have been converted to category and the memory size has reduced from 763KB to 564KB "
   ]
  },
  {
   "cell_type": "code",
   "execution_count": 110,
   "metadata": {},
   "outputs": [
    {
     "name": "stdout",
     "output_type": "stream",
     "text": [
      "Self Enquiry       3444\n",
      "Company Invited    1419\n",
      "Name: TypeofContact, dtype: int64\n",
      "----------------------------------------\n",
      "Salaried          2368\n",
      "Small Business    2084\n",
      "Large Business     434\n",
      "Free Lancer          2\n",
      "Name: Occupation, dtype: int64\n",
      "----------------------------------------\n",
      "Male       2916\n",
      "Female     1817\n",
      "Fe Male     155\n",
      "Name: Gender, dtype: int64\n",
      "----------------------------------------\n",
      "Basic           1842\n",
      "Deluxe          1732\n",
      "Standard         742\n",
      "Super Deluxe     342\n",
      "King             230\n",
      "Name: ProductPitched, dtype: int64\n",
      "----------------------------------------\n",
      "Married      2340\n",
      "Divorced      950\n",
      "Single        916\n",
      "Unmarried     682\n",
      "Name: MaritalStatus, dtype: int64\n",
      "----------------------------------------\n",
      "Executive         1842\n",
      "Manager           1732\n",
      "Senior Manager     742\n",
      "AVP                342\n",
      "VP                 230\n",
      "Name: Designation, dtype: int64\n",
      "----------------------------------------\n"
     ]
    }
   ],
   "source": [
    "# Making a list of all categorical variables to understand what to replace with in respect to any wrong category\n",
    "Travel_col = [\n",
    "    \"TypeofContact\",\n",
    "    \"Occupation\",\n",
    "    \"Gender\",\n",
    "    \"ProductPitched\",\n",
    "    \"MaritalStatus\",\n",
    "    \"Designation\",\n",
    "]\n",
    "\n",
    "# Printing number of count of each unique value in each column\n",
    "for column in Travel_col:\n",
    "    print(Travel_data[column].value_counts())\n",
    "    print(\"-\" * 40)"
   ]
  },
  {
   "cell_type": "markdown",
   "metadata": {},
   "source": [
    "### Observation: \n",
    "Female has another category Fe Male, there is every probability that this was a mistake which occured during entry, this would be replaced with Female and added to the Female category."
   ]
  },
  {
   "cell_type": "code",
   "execution_count": 111,
   "metadata": {},
   "outputs": [],
   "source": [
    "#Replace Fe Male with Female\n",
    "Travel_data['Gender'] = Travel_data['Gender'].str.replace('Fe Male','Female')"
   ]
  },
  {
   "cell_type": "code",
   "execution_count": 112,
   "metadata": {},
   "outputs": [
    {
     "name": "stdout",
     "output_type": "stream",
     "text": [
      "Self Enquiry       3444\n",
      "Company Invited    1419\n",
      "Name: TypeofContact, dtype: int64\n",
      "----------------------------------------\n",
      "Salaried          2368\n",
      "Small Business    2084\n",
      "Large Business     434\n",
      "Free Lancer          2\n",
      "Name: Occupation, dtype: int64\n",
      "----------------------------------------\n",
      "Male      2916\n",
      "Female    1972\n",
      "Name: Gender, dtype: int64\n",
      "----------------------------------------\n",
      "Basic           1842\n",
      "Deluxe          1732\n",
      "Standard         742\n",
      "Super Deluxe     342\n",
      "King             230\n",
      "Name: ProductPitched, dtype: int64\n",
      "----------------------------------------\n",
      "Married      2340\n",
      "Divorced      950\n",
      "Single        916\n",
      "Unmarried     682\n",
      "Name: MaritalStatus, dtype: int64\n",
      "----------------------------------------\n",
      "Executive         1842\n",
      "Manager           1732\n",
      "Senior Manager     742\n",
      "AVP                342\n",
      "VP                 230\n",
      "Name: Designation, dtype: int64\n",
      "----------------------------------------\n"
     ]
    }
   ],
   "source": [
    "#Confirm the replacement has been done\n",
    "# Making a list of all categorical variables to understand what to replace with in respect to the missing numbers\n",
    "Travel_col = [\n",
    "    \"TypeofContact\",\n",
    "    \"Occupation\",\n",
    "    \"Gender\",\n",
    "    \"ProductPitched\",\n",
    "    \"MaritalStatus\",\n",
    "    \"Designation\",\n",
    "]\n",
    "\n",
    "# Printing number of count of each unique value in each column\n",
    "for column in Travel_col:\n",
    "    print(Travel_data[column].value_counts())\n",
    "    print(\"-\" * 40)"
   ]
  },
  {
   "cell_type": "markdown",
   "metadata": {},
   "source": [
    "### Observation \n",
    "The Fe Male has been replaced with Female and added to it to reflect two categories instead of previous 3 categories "
   ]
  },
  {
   "cell_type": "markdown",
   "metadata": {},
   "source": [
    "## Understanding the data distribution before replacing the missing values"
   ]
  },
  {
   "cell_type": "code",
   "execution_count": 113,
   "metadata": {},
   "outputs": [],
   "source": [
    "#Develop a function that takes the numerical column as the input and returns the boxplots and histograms for the variable.\n",
    "def histogram_boxplot(feature, figsize=(15, 10), bins=None):\n",
    "    \"\"\"Boxplot and histogram combined\n",
    "    feature: 1-d feature array\n",
    "    figsize: size of fig (default (9,8))\n",
    "    bins: number of bins (default None / auto)\n",
    "    \"\"\"\n",
    "    f2, (ax_box2, ax_hist2) = plt.subplots(\n",
    "        nrows=2,  # Number of rows of the subplot grid= 2\n",
    "        sharex=True,  # x-axis will be shared among all subplots\n",
    "        gridspec_kw={\"height_ratios\": (0.25, 0.75)},\n",
    "        figsize=figsize,\n",
    "    )  # creating the 2 subplots\n",
    "    sns.boxplot(\n",
    "        feature, ax=ax_box2, showmeans=True, color=\"violet\"\n",
    "    )  # boxplot will be created and a star will indicate the mean value of the column\n",
    "    sns.distplot(\n",
    "        feature, kde=F, ax=ax_hist2, bins=bins, color=\"orange\"\n",
    "    ) if bins else sns.distplot(\n",
    "        feature, kde=False, ax=ax_hist2, color=\"tab:cyan\"\n",
    "    )  # For histogram\n",
    "    ax_hist2.axvline(\n",
    "        np.mean(feature), color=\"purple\", linestyle=\"--\"\n",
    "    )  # Add mean to the histogram\n",
    "    ax_hist2.axvline(\n",
    "        np.median(feature), color=\"black\", linestyle=\"-\"\n",
    "    )  # Add median to the histogram"
   ]
  },
  {
   "cell_type": "code",
   "execution_count": 114,
   "metadata": {},
   "outputs": [
    {
     "data": {
      "image/png": "[encoded data removed]",
      "text/plain": [
       "<Figure size 1080x720 with 2 Axes>"
      ]
     },
     "metadata": {
      "needs_background": "light"
     },
     "output_type": "display_data"
    }
   ],
   "source": [
    "#Understanding data distribution for Age\n",
    "#Numerical variable histogram and boxplot for Age\n",
    "histogram_boxplot(Travel_data[\"Age\"])"
   ]
  },
  {
   "cell_type": "markdown",
   "metadata": {},
   "source": [
    "### Observation \n",
    "The data distribution is close to normal distribution and the mean and median are close, replacing the missing value with mean would be a better option than with median as that will help the data to be more evenly distributed and close to symetrical as well. \n",
    "\n"
   ]
  },
  {
   "cell_type": "code",
   "execution_count": 115,
   "metadata": {},
   "outputs": [
    {
     "data": {
      "text/plain": [
       "ProdTaken                     0\n",
       "Age                           0\n",
       "TypeofContact                25\n",
       "CityTier                      0\n",
       "DurationOfPitch             251\n",
       "Occupation                    0\n",
       "Gender                        0\n",
       "NumberOfPersonVisiting        0\n",
       "NumberOfFollowups            45\n",
       "ProductPitched                0\n",
       "PreferredPropertyStar        26\n",
       "MaritalStatus                 0\n",
       "NumberOfTrips               140\n",
       "Passport                      0\n",
       "PitchSatisfactionScore        0\n",
       "OwnCar                        0\n",
       "NumberOfChildrenVisiting     66\n",
       "Designation                   0\n",
       "MonthlyIncome               233\n",
       "dtype: int64"
      ]
     },
     "execution_count": 115,
     "metadata": {},
     "output_type": "execute_result"
    }
   ],
   "source": [
    "# Replace the missing values in 'Age' column with the mean\n",
    "Travel_data['Age'] = Travel_data['Age'].fillna(value =Travel_data['Age'].median())\n",
    "Travel_data.isnull().sum()"
   ]
  },
  {
   "cell_type": "code",
   "execution_count": 116,
   "metadata": {},
   "outputs": [
    {
     "data": {
      "text/plain": [
       "ProdTaken                     0\n",
       "Age                           0\n",
       "TypeofContact                 0\n",
       "CityTier                      0\n",
       "DurationOfPitch             226\n",
       "Occupation                    0\n",
       "Gender                        0\n",
       "NumberOfPersonVisiting        0\n",
       "NumberOfFollowups            45\n",
       "ProductPitched                0\n",
       "PreferredPropertyStar        26\n",
       "MaritalStatus                 0\n",
       "NumberOfTrips               140\n",
       "Passport                      0\n",
       "PitchSatisfactionScore        0\n",
       "OwnCar                        0\n",
       "NumberOfChildrenVisiting     66\n",
       "Designation                   0\n",
       "MonthlyIncome               208\n",
       "dtype: int64"
      ]
     },
     "execution_count": 116,
     "metadata": {},
     "output_type": "execute_result"
    }
   ],
   "source": [
    "#Drop the Missing numbers in TypeofContact since the percentage of the missing value is small compared to the overall data\n",
    "Travel_data = Travel_data.dropna(subset = ['TypeofContact'])\n",
    "Travel_data.isnull().sum()"
   ]
  },
  {
   "cell_type": "code",
   "execution_count": 117,
   "metadata": {},
   "outputs": [
    {
     "data": {
      "image/png": "[encoded data removed]",
      "text/plain": [
       "<Figure size 1080x720 with 2 Axes>"
      ]
     },
     "metadata": {
      "needs_background": "light"
     },
     "output_type": "display_data"
    }
   ],
   "source": [
    "#Understanding data distribution for DurationofPitch\n",
    "#Numerical variable histogram and boxplot for DurationofPitch\n",
    "histogram_boxplot(Travel_data[\"DurationOfPitch\"])"
   ]
  },
  {
   "cell_type": "markdown",
   "metadata": {},
   "source": [
    "## Observation :\n",
    "Based on the above histogram, which is rightly skewed, replacing with mean would be the best option compared to median or mode.\n",
    "Also some outliers are identified from the boxplot, the outliers would be reviewed for appropriateness later, either to remove it or keep it"
   ]
  },
  {
   "cell_type": "code",
   "execution_count": 118,
   "metadata": {},
   "outputs": [
    {
     "data": {
      "text/plain": [
       "ProdTaken                     0\n",
       "Age                           0\n",
       "TypeofContact                 0\n",
       "CityTier                      0\n",
       "DurationOfPitch               0\n",
       "Occupation                    0\n",
       "Gender                        0\n",
       "NumberOfPersonVisiting        0\n",
       "NumberOfFollowups            45\n",
       "ProductPitched                0\n",
       "PreferredPropertyStar        26\n",
       "MaritalStatus                 0\n",
       "NumberOfTrips               140\n",
       "Passport                      0\n",
       "PitchSatisfactionScore        0\n",
       "OwnCar                        0\n",
       "NumberOfChildrenVisiting     66\n",
       "Designation                   0\n",
       "MonthlyIncome               208\n",
       "dtype: int64"
      ]
     },
     "execution_count": 118,
     "metadata": {},
     "output_type": "execute_result"
    }
   ],
   "source": [
    "#Replacing DurationOfPitch with mean \n",
    "Travel_data['DurationOfPitch'] = Travel_data['DurationOfPitch'].fillna(value =Travel_data['DurationOfPitch'].median())\n",
    "Travel_data.isnull().sum()"
   ]
  },
  {
   "cell_type": "code",
   "execution_count": 119,
   "metadata": {},
   "outputs": [
    {
     "data": {
      "image/png": "[encoded data removed]",
      "text/plain": [
       "<Figure size 1080x720 with 2 Axes>"
      ]
     },
     "metadata": {
      "needs_background": "light"
     },
     "output_type": "display_data"
    }
   ],
   "source": [
    "#Understanding data distribution for NumberOfFollowups\n",
    "#Numerical variable histogram and boxplot for NumberOfFollowups\n",
    "histogram_boxplot(Travel_data[\"NumberOfFollowups\"])"
   ]
  },
  {
   "cell_type": "markdown",
   "metadata": {},
   "source": [
    "## Observation: \n",
    "The graph looks close to normal but there are outliers both at the right and left side of the distribution. Replacing the missing value with mean would be a good plan since the distribution looks normal"
   ]
  },
  {
   "cell_type": "code",
   "execution_count": 120,
   "metadata": {},
   "outputs": [
    {
     "data": {
      "text/plain": [
       "ProdTaken                     0\n",
       "Age                           0\n",
       "TypeofContact                 0\n",
       "CityTier                      0\n",
       "DurationOfPitch               0\n",
       "Occupation                    0\n",
       "Gender                        0\n",
       "NumberOfPersonVisiting        0\n",
       "NumberOfFollowups             0\n",
       "ProductPitched                0\n",
       "PreferredPropertyStar        26\n",
       "MaritalStatus                 0\n",
       "NumberOfTrips               140\n",
       "Passport                      0\n",
       "PitchSatisfactionScore        0\n",
       "OwnCar                        0\n",
       "NumberOfChildrenVisiting     66\n",
       "Designation                   0\n",
       "MonthlyIncome               208\n",
       "dtype: int64"
      ]
     },
     "execution_count": 120,
     "metadata": {},
     "output_type": "execute_result"
    }
   ],
   "source": [
    "#Replacing NumberOfFollowups with mean \n",
    "Travel_data['NumberOfFollowups'] = Travel_data['NumberOfFollowups'].fillna(value =Travel_data['NumberOfFollowups'].median())\n",
    "Travel_data.isnull().sum()"
   ]
  },
  {
   "cell_type": "code",
   "execution_count": 121,
   "metadata": {},
   "outputs": [
    {
     "data": {
      "image/png": "[encoded data removed]",
      "text/plain": [
       "<Figure size 1080x720 with 2 Axes>"
      ]
     },
     "metadata": {
      "needs_background": "light"
     },
     "output_type": "display_data"
    }
   ],
   "source": [
    "#Understanding data distribution for PreferredPropertyStars\n",
    "#Numerical variable histogram and boxplot for PreferredPropertyStar\n",
    "histogram_boxplot(Travel_data[\"PreferredPropertyStar\"])"
   ]
  },
  {
   "cell_type": "markdown",
   "metadata": {},
   "source": [
    "## Observation: \n",
    "Reviewing the data distribution, it is difficult to replace the missing values appropriately, no data is close to the mean or median and except we want to use the mode which accounts for over 60% of the data. It would be appropriate to drop the data or replace with mode, since the percentage is very small and cannot affect the data modelling significantly we could easily drop the observations with missing values "
   ]
  },
  {
   "cell_type": "code",
   "execution_count": 122,
   "metadata": {},
   "outputs": [
    {
     "data": {
      "text/plain": [
       "ProdTaken                     0\n",
       "Age                           0\n",
       "TypeofContact                 0\n",
       "CityTier                      0\n",
       "DurationOfPitch               0\n",
       "Occupation                    0\n",
       "Gender                        0\n",
       "NumberOfPersonVisiting        0\n",
       "NumberOfFollowups             0\n",
       "ProductPitched                0\n",
       "PreferredPropertyStar         0\n",
       "MaritalStatus                 0\n",
       "NumberOfTrips               140\n",
       "Passport                      0\n",
       "PitchSatisfactionScore        0\n",
       "OwnCar                        0\n",
       "NumberOfChildrenVisiting     66\n",
       "Designation                   0\n",
       "MonthlyIncome               208\n",
       "dtype: int64"
      ]
     },
     "execution_count": 122,
     "metadata": {},
     "output_type": "execute_result"
    }
   ],
   "source": [
    "#Drop the Missing numbers in PreferredPropertyStar since the percentage of the missing value is small compared to the overall data\n",
    "Travel_data = Travel_data.dropna(subset = ['PreferredPropertyStar'])\n",
    "Travel_data.isnull().sum()"
   ]
  },
  {
   "cell_type": "code",
   "execution_count": 123,
   "metadata": {},
   "outputs": [
    {
     "data": {
      "image/png": "[encoded data removed]",
      "text/plain": [
       "<Figure size 1080x720 with 2 Axes>"
      ]
     },
     "metadata": {
      "needs_background": "light"
     },
     "output_type": "display_data"
    }
   ],
   "source": [
    "#Understanding data distribution for NumberOfTrips\n",
    "#Numerical variable histogram and boxplot for NumberOfTrips\n",
    "histogram_boxplot(Travel_data[\"NumberOfTrips\"])"
   ]
  },
  {
   "cell_type": "markdown",
   "metadata": {},
   "source": [
    "## Observation\n",
    "\n",
    "The data distribution is rightly skewed with some outliers. Replacing with a mean would be a better option"
   ]
  },
  {
   "cell_type": "code",
   "execution_count": 124,
   "metadata": {},
   "outputs": [
    {
     "data": {
      "text/plain": [
       "ProdTaken                     0\n",
       "Age                           0\n",
       "TypeofContact                 0\n",
       "CityTier                      0\n",
       "DurationOfPitch               0\n",
       "Occupation                    0\n",
       "Gender                        0\n",
       "NumberOfPersonVisiting        0\n",
       "NumberOfFollowups             0\n",
       "ProductPitched                0\n",
       "PreferredPropertyStar         0\n",
       "MaritalStatus                 0\n",
       "NumberOfTrips                 0\n",
       "Passport                      0\n",
       "PitchSatisfactionScore        0\n",
       "OwnCar                        0\n",
       "NumberOfChildrenVisiting     66\n",
       "Designation                   0\n",
       "MonthlyIncome               208\n",
       "dtype: int64"
      ]
     },
     "execution_count": 124,
     "metadata": {},
     "output_type": "execute_result"
    }
   ],
   "source": [
    "Travel_data['NumberOfTrips'] = Travel_data['NumberOfTrips'].fillna(value =Travel_data['NumberOfTrips'].median())\n",
    "Travel_data.isnull().sum()"
   ]
  },
  {
   "cell_type": "code",
   "execution_count": 125,
   "metadata": {},
   "outputs": [
    {
     "data": {
      "image/png": "[encoded data removed]",
      "text/plain": [
       "<Figure size 1080x720 with 2 Axes>"
      ]
     },
     "metadata": {
      "needs_background": "light"
     },
     "output_type": "display_data"
    }
   ],
   "source": [
    "#Understanding data distribution for NumberOfChildrenVisiting\n",
    "#Numerical variable histogram and boxplot for NumberOfChildrenVisiting\n",
    "histogram_boxplot(Travel_data[\"NumberOfChildrenVisiting\"])"
   ]
  },
  {
   "cell_type": "markdown",
   "metadata": {},
   "source": [
    "## Observation:\n",
    "The data looks normal with no outliers, replacing with a mean would be the best option. "
   ]
  },
  {
   "cell_type": "code",
   "execution_count": 126,
   "metadata": {},
   "outputs": [
    {
     "data": {
      "text/plain": [
       "ProdTaken                     0\n",
       "Age                           0\n",
       "TypeofContact                 0\n",
       "CityTier                      0\n",
       "DurationOfPitch               0\n",
       "Occupation                    0\n",
       "Gender                        0\n",
       "NumberOfPersonVisiting        0\n",
       "NumberOfFollowups             0\n",
       "ProductPitched                0\n",
       "PreferredPropertyStar         0\n",
       "MaritalStatus                 0\n",
       "NumberOfTrips                 0\n",
       "Passport                      0\n",
       "PitchSatisfactionScore        0\n",
       "OwnCar                        0\n",
       "NumberOfChildrenVisiting      0\n",
       "Designation                   0\n",
       "MonthlyIncome               208\n",
       "dtype: int64"
      ]
     },
     "execution_count": 126,
     "metadata": {},
     "output_type": "execute_result"
    }
   ],
   "source": [
    "Travel_data['NumberOfChildrenVisiting'] = Travel_data['NumberOfChildrenVisiting'].fillna(value =Travel_data['NumberOfChildrenVisiting'].mean())\n",
    "Travel_data.isnull().sum()"
   ]
  },
  {
   "cell_type": "markdown",
   "metadata": {},
   "source": [
    "## Observation: \n",
    "Mean and median are close and the distribution looks close to normal but with the mean looks lower, replacing with mean will make it looks more like normal "
   ]
  },
  {
   "cell_type": "code",
   "execution_count": 127,
   "metadata": {},
   "outputs": [
    {
     "data": {
      "text/plain": [
       "ProdTaken                     0\n",
       "Age                           0\n",
       "TypeofContact                 0\n",
       "CityTier                      0\n",
       "DurationOfPitch               0\n",
       "Occupation                    0\n",
       "Gender                        0\n",
       "NumberOfPersonVisiting        0\n",
       "NumberOfFollowups             0\n",
       "ProductPitched                0\n",
       "PreferredPropertyStar         0\n",
       "MaritalStatus                 0\n",
       "NumberOfTrips                 0\n",
       "Passport                      0\n",
       "PitchSatisfactionScore        0\n",
       "OwnCar                        0\n",
       "NumberOfChildrenVisiting      0\n",
       "Designation                   0\n",
       "MonthlyIncome               208\n",
       "dtype: int64"
      ]
     },
     "execution_count": 127,
     "metadata": {},
     "output_type": "execute_result"
    }
   ],
   "source": [
    "Travel_data['NumberOfChildrenVisiting'] = Travel_data['NumberOfChildrenVisiting'].fillna(value =Travel_data['NumberOfChildrenVisiting'].mean())\n",
    "Travel_data.isnull().sum()"
   ]
  },
  {
   "cell_type": "code",
   "execution_count": 128,
   "metadata": {},
   "outputs": [
    {
     "data": {
      "image/png": "[encoded data removed]",
      "text/plain": [
       "<Figure size 1080x720 with 2 Axes>"
      ]
     },
     "metadata": {
      "needs_background": "light"
     },
     "output_type": "display_data"
    }
   ],
   "source": [
    "#Understanding data distribution for MonthlyIncome\n",
    "#Numerical variable histogram and boxplot for MonthlyIncome\n",
    "histogram_boxplot(Travel_data[\"MonthlyIncome\"])"
   ]
  },
  {
   "cell_type": "markdown",
   "metadata": {},
   "source": [
    "## Observation\n",
    "This do not absolutely looks like normal but was close to it with some outliers, replacing with a mean looks like the best option"
   ]
  },
  {
   "cell_type": "code",
   "execution_count": 129,
   "metadata": {},
   "outputs": [
    {
     "data": {
      "text/plain": [
       "ProdTaken                   0\n",
       "Age                         0\n",
       "TypeofContact               0\n",
       "CityTier                    0\n",
       "DurationOfPitch             0\n",
       "Occupation                  0\n",
       "Gender                      0\n",
       "NumberOfPersonVisiting      0\n",
       "NumberOfFollowups           0\n",
       "ProductPitched              0\n",
       "PreferredPropertyStar       0\n",
       "MaritalStatus               0\n",
       "NumberOfTrips               0\n",
       "Passport                    0\n",
       "PitchSatisfactionScore      0\n",
       "OwnCar                      0\n",
       "NumberOfChildrenVisiting    0\n",
       "Designation                 0\n",
       "MonthlyIncome               0\n",
       "dtype: int64"
      ]
     },
     "execution_count": 129,
     "metadata": {},
     "output_type": "execute_result"
    }
   ],
   "source": [
    "Travel_data['MonthlyIncome'] = Travel_data['MonthlyIncome'].fillna(value =Travel_data['MonthlyIncome'].median())\n",
    "Travel_data.isnull().sum()"
   ]
  },
  {
   "cell_type": "markdown",
   "metadata": {},
   "source": [
    "## Observations: \n",
    "All missing values have been handled in the dataset and no missing value noticed. "
   ]
  },
  {
   "cell_type": "code",
   "execution_count": 130,
   "metadata": {},
   "outputs": [
    {
     "data": {
      "text/plain": [
       "ProdTaken                      2\n",
       "Age                           44\n",
       "TypeofContact                  2\n",
       "CityTier                       3\n",
       "DurationOfPitch               34\n",
       "Occupation                     4\n",
       "Gender                         2\n",
       "NumberOfPersonVisiting         5\n",
       "NumberOfFollowups              6\n",
       "ProductPitched                 5\n",
       "PreferredPropertyStar          3\n",
       "MaritalStatus                  4\n",
       "NumberOfTrips                 12\n",
       "Passport                       2\n",
       "PitchSatisfactionScore         5\n",
       "OwnCar                         2\n",
       "NumberOfChildrenVisiting       5\n",
       "Designation                    5\n",
       "MonthlyIncome               2459\n",
       "dtype: int64"
      ]
     },
     "execution_count": 130,
     "metadata": {},
     "output_type": "execute_result"
    }
   ],
   "source": [
    "#Confirm the number of uniqueness of the features to determine those that should be categorical and those that should be integer  :\n",
    "Travel_data.nunique()"
   ]
  },
  {
   "cell_type": "markdown",
   "metadata": {},
   "source": [
    "## Observation : \n",
    "Convert the following to Categorical Variable : ProdTaken,TypeofContact,CityTier,Occupation,Gender, \n",
    "PreferredPropertyStar,MaritalStatus,Passport,OwnCar,PitchSatisfactionscore,Designation; \n",
    "\n",
    "This decision was taken based on the domain knowledge of data and the number of categories"
   ]
  },
  {
   "cell_type": "code",
   "execution_count": 131,
   "metadata": {},
   "outputs": [],
   "source": [
    "#Convert the following to Category\n",
    "Travel_data[\"ProdTaken\"] = Travel_data[\"ProdTaken\"].astype('category')\n",
    "Travel_data[\"TypeofContact\"] = Travel_data[\"TypeofContact\"].astype('category')\n",
    "Travel_data[\"CityTier\"] = Travel_data[\"CityTier\"].astype('category')\n",
    "Travel_data[\"Occupation\"] = Travel_data[\"Occupation\"].astype('category')\n",
    "Travel_data[\"PreferredPropertyStar\"] = Travel_data[\"PreferredPropertyStar\"].astype('category')\n",
    "Travel_data[\"MaritalStatus\"] = Travel_data[\"MaritalStatus\"].astype('category')\n",
    "Travel_data[\"Passport\"] = Travel_data[\"Passport\"].astype('category')\n",
    "Travel_data[\"PitchSatisfactionScore\"] = Travel_data[\"PitchSatisfactionScore\"].astype('category')\n",
    "Travel_data[\"OwnCar\"] = Travel_data[\"OwnCar\"].astype('category')"
   ]
  },
  {
   "cell_type": "code",
   "execution_count": 132,
   "metadata": {},
   "outputs": [],
   "source": [
    "#Convert the following from float to integer since they can only be integers: Age,NumberOfFollowups, NumberOfTrips, NumberOfChildrenVisiting\n",
    "Travel_data[\"Age\"] = Travel_data[\"Age\"].astype('int')\n",
    "Travel_data[\"NumberOfFollowups\"] = Travel_data[\"NumberOfFollowups\"].astype('int')\n",
    "Travel_data[\"NumberOfTrips\"] = Travel_data[\"NumberOfTrips\"].astype('int')\n",
    "Travel_data[\"NumberOfChildrenVisiting\"] = Travel_data[\"NumberOfChildrenVisiting\"].astype('int')"
   ]
  },
  {
   "cell_type": "code",
   "execution_count": 133,
   "metadata": {},
   "outputs": [
    {
     "name": "stdout",
     "output_type": "stream",
     "text": [
      "<class 'pandas.core.frame.DataFrame'>\n",
      "Int64Index: 4837 entries, 200000 to 204887\n",
      "Data columns (total 19 columns):\n",
      " #   Column                    Non-Null Count  Dtype   \n",
      "---  ------                    --------------  -----   \n",
      " 0   ProdTaken                 4837 non-null   category\n",
      " 1   Age                       4837 non-null   int32   \n",
      " 2   TypeofContact             4837 non-null   category\n",
      " 3   CityTier                  4837 non-null   category\n",
      " 4   DurationOfPitch           4837 non-null   float64 \n",
      " 5   Occupation                4837 non-null   category\n",
      " 6   Gender                    4837 non-null   object  \n",
      " 7   NumberOfPersonVisiting    4837 non-null   int64   \n",
      " 8   NumberOfFollowups         4837 non-null   int32   \n",
      " 9   ProductPitched            4837 non-null   category\n",
      " 10  PreferredPropertyStar     4837 non-null   category\n",
      " 11  MaritalStatus             4837 non-null   category\n",
      " 12  NumberOfTrips             4837 non-null   int32   \n",
      " 13  Passport                  4837 non-null   category\n",
      " 14  PitchSatisfactionScore    4837 non-null   category\n",
      " 15  OwnCar                    4837 non-null   category\n",
      " 16  NumberOfChildrenVisiting  4837 non-null   int32   \n",
      " 17  Designation               4837 non-null   category\n",
      " 18  MonthlyIncome             4837 non-null   float64 \n",
      "dtypes: category(11), float64(2), int32(4), int64(1), object(1)\n",
      "memory usage: 318.0+ KB\n"
     ]
    }
   ],
   "source": [
    "#Confirm the datatypes of the data after conversion\n",
    "Travel_data.info()"
   ]
  },
  {
   "cell_type": "markdown",
   "metadata": {},
   "source": [
    "# Summary of the dataset"
   ]
  },
  {
   "cell_type": "code",
   "execution_count": 134,
   "metadata": {},
   "outputs": [
    {
     "data": {
      "text/html": [
       "<div>\n",
       "<style scoped>\n",
       "    .dataframe tbody tr th:only-of-type {\n",
       "        vertical-align: middle;\n",
       "    }\n",
       "\n",
       "    .dataframe tbody tr th {\n",
       "        vertical-align: top;\n",
       "    }\n",
       "\n",
       "    .dataframe thead th {\n",
       "        text-align: right;\n",
       "    }\n",
       "</style>\n",
       "<table border=\"1\" class=\"dataframe\">\n",
       "  <thead>\n",
       "    <tr style=\"text-align: right;\">\n",
       "      <th></th>\n",
       "      <th>count</th>\n",
       "      <th>mean</th>\n",
       "      <th>std</th>\n",
       "      <th>min</th>\n",
       "      <th>25%</th>\n",
       "      <th>50%</th>\n",
       "      <th>75%</th>\n",
       "      <th>max</th>\n",
       "    </tr>\n",
       "  </thead>\n",
       "  <tbody>\n",
       "    <tr>\n",
       "      <th>Age</th>\n",
       "      <td>4837.0</td>\n",
       "      <td>37.516229</td>\n",
       "      <td>9.069167</td>\n",
       "      <td>18.0</td>\n",
       "      <td>31.0</td>\n",
       "      <td>36.0</td>\n",
       "      <td>43.0</td>\n",
       "      <td>61.0</td>\n",
       "    </tr>\n",
       "    <tr>\n",
       "      <th>DurationOfPitch</th>\n",
       "      <td>4837.0</td>\n",
       "      <td>15.380401</td>\n",
       "      <td>8.336915</td>\n",
       "      <td>5.0</td>\n",
       "      <td>9.0</td>\n",
       "      <td>13.0</td>\n",
       "      <td>19.0</td>\n",
       "      <td>127.0</td>\n",
       "    </tr>\n",
       "    <tr>\n",
       "      <th>NumberOfPersonVisiting</th>\n",
       "      <td>4837.0</td>\n",
       "      <td>2.904900</td>\n",
       "      <td>0.724191</td>\n",
       "      <td>1.0</td>\n",
       "      <td>2.0</td>\n",
       "      <td>3.0</td>\n",
       "      <td>3.0</td>\n",
       "      <td>5.0</td>\n",
       "    </tr>\n",
       "    <tr>\n",
       "      <th>NumberOfFollowups</th>\n",
       "      <td>4837.0</td>\n",
       "      <td>3.708910</td>\n",
       "      <td>0.994832</td>\n",
       "      <td>1.0</td>\n",
       "      <td>3.0</td>\n",
       "      <td>4.0</td>\n",
       "      <td>4.0</td>\n",
       "      <td>6.0</td>\n",
       "    </tr>\n",
       "    <tr>\n",
       "      <th>NumberOfTrips</th>\n",
       "      <td>4837.0</td>\n",
       "      <td>3.224933</td>\n",
       "      <td>1.820483</td>\n",
       "      <td>1.0</td>\n",
       "      <td>2.0</td>\n",
       "      <td>3.0</td>\n",
       "      <td>4.0</td>\n",
       "      <td>22.0</td>\n",
       "    </tr>\n",
       "    <tr>\n",
       "      <th>NumberOfChildrenVisiting</th>\n",
       "      <td>4837.0</td>\n",
       "      <td>1.183998</td>\n",
       "      <td>0.850758</td>\n",
       "      <td>0.0</td>\n",
       "      <td>1.0</td>\n",
       "      <td>1.0</td>\n",
       "      <td>2.0</td>\n",
       "      <td>3.0</td>\n",
       "    </tr>\n",
       "    <tr>\n",
       "      <th>MonthlyIncome</th>\n",
       "      <td>4837.0</td>\n",
       "      <td>23471.238991</td>\n",
       "      <td>5071.299404</td>\n",
       "      <td>1000.0</td>\n",
       "      <td>20470.0</td>\n",
       "      <td>22295.0</td>\n",
       "      <td>25374.0</td>\n",
       "      <td>98678.0</td>\n",
       "    </tr>\n",
       "  </tbody>\n",
       "</table>\n",
       "</div>"
      ],
      "text/plain": [
       "                           count          mean          std     min      25%  \\\n",
       "Age                       4837.0     37.516229     9.069167    18.0     31.0   \n",
       "DurationOfPitch           4837.0     15.380401     8.336915     5.0      9.0   \n",
       "NumberOfPersonVisiting    4837.0      2.904900     0.724191     1.0      2.0   \n",
       "NumberOfFollowups         4837.0      3.708910     0.994832     1.0      3.0   \n",
       "NumberOfTrips             4837.0      3.224933     1.820483     1.0      2.0   \n",
       "NumberOfChildrenVisiting  4837.0      1.183998     0.850758     0.0      1.0   \n",
       "MonthlyIncome             4837.0  23471.238991  5071.299404  1000.0  20470.0   \n",
       "\n",
       "                              50%      75%      max  \n",
       "Age                          36.0     43.0     61.0  \n",
       "DurationOfPitch              13.0     19.0    127.0  \n",
       "NumberOfPersonVisiting        3.0      3.0      5.0  \n",
       "NumberOfFollowups             4.0      4.0      6.0  \n",
       "NumberOfTrips                 3.0      4.0     22.0  \n",
       "NumberOfChildrenVisiting      1.0      2.0      3.0  \n",
       "MonthlyIncome             22295.0  25374.0  98678.0  "
      ]
     },
     "execution_count": 134,
     "metadata": {},
     "output_type": "execute_result"
    }
   ],
   "source": [
    "Travel_data.describe().T"
   ]
  },
  {
   "cell_type": "markdown",
   "metadata": {},
   "source": [
    "### Observation\n",
    "\n",
    ". Age of the Enquiry Customers range from 18 to 61 years and the average age is 37 years \n",
    "\n",
    ". Duration of Pitch Mean is 15 with a maximum of 127, which means it has an outlier, since the maximum is far greater than the mean and the median.\n",
    "\n",
    ". Number of follow ups , Number of Person Visiting , Number of Children Visiting looks closely normal \n",
    "\n",
    ". Monthly income standard deviation is very high and the maximum number shows there are outliers \n"
   ]
  },
  {
   "cell_type": "markdown",
   "metadata": {},
   "source": [
    "# Univariate Analysis of Numerical features "
   ]
  },
  {
   "cell_type": "code",
   "execution_count": 135,
   "metadata": {},
   "outputs": [
    {
     "data": {
      "image/png": "[encoded data removed]",
      "text/plain": [
       "<Figure size 1080x720 with 2 Axes>"
      ]
     },
     "metadata": {
      "needs_background": "light"
     },
     "output_type": "display_data"
    }
   ],
   "source": [
    "#Numerical variable histogram and boxplot for Age\n",
    "histogram_boxplot(Travel_data[\"Age\"])"
   ]
  },
  {
   "cell_type": "markdown",
   "metadata": {},
   "source": [
    "### Observation: \n",
    "The data distribution is close to normal.\n",
    "\n",
    "The mean and median age of the customers are around 37-38 years. \n",
    "\n",
    "Age 30-40years constitute almost 50% of the customer base for the company "
   ]
  },
  {
   "cell_type": "code",
   "execution_count": 136,
   "metadata": {},
   "outputs": [
    {
     "data": {
      "image/png": "[encoded data removed]",
      "text/plain": [
       "<Figure size 1080x720 with 2 Axes>"
      ]
     },
     "metadata": {
      "needs_background": "light"
     },
     "output_type": "display_data"
    }
   ],
   "source": [
    "#Numerical variable histogram and boxplot for Duration of Pitch\n",
    "histogram_boxplot(Travel_data[\"DurationOfPitch\"])"
   ]
  },
  {
   "cell_type": "markdown",
   "metadata": {},
   "source": [
    "### Observation: \n",
    "The average pitch duration data is rightly skewed \n",
    "\n",
    "The mean and the median are close \n",
    "\n",
    "There are outliers in the data\n",
    "\n",
    "Noticed the pitch duration time reduces immediately after the mean, this need to be investigated further"
   ]
  },
  {
   "cell_type": "code",
   "execution_count": 137,
   "metadata": {},
   "outputs": [
    {
     "data": {
      "image/png": "[encoded data removed]",
      "text/plain": [
       "<Figure size 1080x720 with 2 Axes>"
      ]
     },
     "metadata": {
      "needs_background": "light"
     },
     "output_type": "display_data"
    }
   ],
   "source": [
    "#Numerical variable histogram and boxplot for Duration of Pitch\n",
    "histogram_boxplot(Travel_data[\"NumberOfPersonVisiting\"])"
   ]
  },
  {
   "cell_type": "markdown",
   "metadata": {},
   "source": [
    "### Observation: \n",
    "The data looks close to normal\n",
    "\n",
    "The median number of people visiting with the customer is 3, even though the mean is lesser the number of people would always be in integers in whcih 3 is the closest, we can assume the mean is 3\n",
    "\n",
    "It has outliers at around 5"
   ]
  },
  {
   "cell_type": "code",
   "execution_count": 138,
   "metadata": {},
   "outputs": [
    {
     "data": {
      "image/png": "[encoded data removed]",
      "text/plain": [
       "<Figure size 1080x720 with 2 Axes>"
      ]
     },
     "metadata": {
      "needs_background": "light"
     },
     "output_type": "display_data"
    }
   ],
   "source": [
    "#Numerical variable histogram and boxplot of histogram_boxplot of NumberOfFollowups\n",
    "histogram_boxplot(Travel_data[\"NumberOfFollowups\"])"
   ]
  },
  {
   "cell_type": "markdown",
   "metadata": {},
   "source": [
    "### Observation: \n",
    "\n",
    "The data distribution looks close to normal\n",
    "\n",
    "The median number of the #numberoffollowups with the customers is around 4, even though the mean is lesser the number of people would always be in integers in which 4 is the closest, we can assume the mean is 4\n",
    "\n",
    "There are outliers on both side of the boxplot"
   ]
  },
  {
   "cell_type": "code",
   "execution_count": 139,
   "metadata": {},
   "outputs": [
    {
     "data": {
      "image/png": "[encoded data removed]",
      "text/plain": [
       "<Figure size 1080x720 with 2 Axes>"
      ]
     },
     "metadata": {
      "needs_background": "light"
     },
     "output_type": "display_data"
    }
   ],
   "source": [
    "#Numerical variable histogram and boxplot for NumberOfTrips\n",
    "histogram_boxplot(Travel_data[\"NumberOfTrips\"])"
   ]
  },
  {
   "cell_type": "markdown",
   "metadata": {},
   "source": [
    "### Observation: \n",
    "The mean and median are close which is approximately 3, since we cannot have number of trip that is not an integer\n",
    "\n",
    "The data distribution is rightly skewed \n",
    "\n",
    "A larger percentage of the people had around 2-3 trips per year"
   ]
  },
  {
   "cell_type": "code",
   "execution_count": 140,
   "metadata": {},
   "outputs": [
    {
     "data": {
      "image/png": "[encoded data removed]",
      "text/plain": [
       "<Figure size 1080x720 with 2 Axes>"
      ]
     },
     "metadata": {
      "needs_background": "light"
     },
     "output_type": "display_data"
    }
   ],
   "source": [
    "#Numerical variable histogram and boxplot for NumberOfChildrenVisiting\n",
    "histogram_boxplot(Travel_data[\"NumberOfChildrenVisiting\"])"
   ]
  },
  {
   "cell_type": "markdown",
   "metadata": {},
   "source": [
    "### Observation:\n",
    "The mean and median are around '1', which suggest the highest number of customers are those with '1' child \n",
    "\n",
    "The distribution looks a bit closer to normal "
   ]
  },
  {
   "cell_type": "code",
   "execution_count": 141,
   "metadata": {},
   "outputs": [
    {
     "data": {
      "image/png": "[encoded data removed]",
      "text/plain": [
       "<Figure size 1080x720 with 2 Axes>"
      ]
     },
     "metadata": {
      "needs_background": "light"
     },
     "output_type": "display_data"
    }
   ],
   "source": [
    "#Numerical variable histogram and boxplot for MonthlyIncome\n",
    "histogram_boxplot(Travel_data[\"MonthlyIncome\"])"
   ]
  },
  {
   "cell_type": "markdown",
   "metadata": {},
   "source": [
    "### Observation:\n",
    "The distribution of the Monthly Income is a bit between rightly skewed and normal\n",
    "\n",
    "The mean and median are close to each other and most customers are between a salary scale of about 15,000 to 40,000 monthly salary\n",
    "\n",
    "There are outliers in the monthly income. \n",
    "\n",
    "We may want to know the reason why the higher income earners are not patronising the vacation package"
   ]
  },
  {
   "cell_type": "markdown",
   "metadata": {},
   "source": [
    "## Univariate Analysis of Categorical Features "
   ]
  },
  {
   "cell_type": "code",
   "execution_count": 142,
   "metadata": {},
   "outputs": [],
   "source": [
    "# function to create labeled barplots\n",
    "\n",
    "def labeled_barplot(data, feature, perc=False, n=None):\n",
    "    \"\"\"\n",
    "    Barplot with percentage at the top\n",
    "\n",
    "    data: dataframe\n",
    "    feature: dataframe column\n",
    "    perc: whether to display percentages instead of count (default is False)\n",
    "    n: displays the top n category levels (default is None, i.e., display all levels)\n",
    "    \"\"\"\n",
    "\n",
    "    total = len(data[feature])  # length of the column\n",
    "    count = data[feature].nunique()\n",
    "    if n is None:\n",
    "        plt.figure(figsize=(count + 1, 5))\n",
    "    else:\n",
    "        plt.figure(figsize=(n + 1, 5))\n",
    "\n",
    "    plt.xticks(rotation=90, fontsize=15)\n",
    "    ax = sns.countplot(\n",
    "        data=data,\n",
    "        x=feature,\n",
    "        palette=\"Paired\",\n",
    "        order=data[feature].value_counts().index[:n].sort_values(),\n",
    "    )\n",
    "\n",
    "    for p in ax.patches:\n",
    "        if perc == True:\n",
    "            label = \"{:.1f}%\".format(\n",
    "                100 * p.get_height() / total\n",
    "            )  # percentage of each class of the category\n",
    "        else:\n",
    "            label = p.get_height()  # count of each level of the category\n",
    "\n",
    "        x = p.get_x() + p.get_width() / 2  # width of the plot\n",
    "        y = p.get_height()  # height of the plot\n",
    "\n",
    "        ax.annotate(\n",
    "            label,\n",
    "            (x, y),\n",
    "            ha=\"center\",\n",
    "            va=\"center\",\n",
    "            size=12,\n",
    "            xytext=(0, 5),\n",
    "            textcoords=\"offset points\",\n",
    "        )  # annotate the percentage\n",
    "\n",
    "    plt.show()  # show the plot"
   ]
  },
  {
   "cell_type": "code",
   "execution_count": 143,
   "metadata": {},
   "outputs": [
    {
     "data": {
      "image/png": "[encoded data removed]",
      "text/plain": [
       "<Figure size 216x360 with 1 Axes>"
      ]
     },
     "metadata": {
      "needs_background": "light"
     },
     "output_type": "display_data"
    }
   ],
   "source": [
    "#Use the function already defined to visualize the TypeofContact category\n",
    "labeled_barplot(Travel_data, \"TypeofContact\", perc=True)"
   ]
  },
  {
   "cell_type": "markdown",
   "metadata": {},
   "source": [
    "### Observation\n",
    "\n",
    "70.7% did Self Enquiry and 29.3% are company invited; which indicates all effort that may have propel the self-inquiry is working,but further review may need to be done because eventhough the Company invited are low we may not be able to ascertain maybe they purchased the package even much more than self enquiry customers which are many."
   ]
  },
  {
   "cell_type": "code",
   "execution_count": 144,
   "metadata": {},
   "outputs": [
    {
     "data": {
      "image/png": "[encoded data removed]",
      "text/plain": [
       "<Figure size 288x360 with 1 Axes>"
      ]
     },
     "metadata": {
      "needs_background": "light"
     },
     "output_type": "display_data"
    }
   ],
   "source": [
    "labeled_barplot(Travel_data, \"CityTier\", perc=True)"
   ]
  },
  {
   "cell_type": "markdown",
   "metadata": {},
   "source": [
    "### Observation:\n",
    "There are more customers from Tier 1 follow by Tier 3, further exploration can help us to know which of the tiers actually purchase the package most"
   ]
  },
  {
   "cell_type": "code",
   "execution_count": 145,
   "metadata": {},
   "outputs": [
    {
     "data": {
      "image/png": "[encoded data removed]",
      "text/plain": [
       "<Figure size 360x360 with 1 Axes>"
      ]
     },
     "metadata": {
      "needs_background": "light"
     },
     "output_type": "display_data"
    }
   ],
   "source": [
    "labeled_barplot(Travel_data, \"Occupation\", perc=True)"
   ]
  },
  {
   "cell_type": "markdown",
   "metadata": {},
   "source": [
    "### Observation: \n",
    "\n",
    "Salaried customers have 48.5% followed by Small Business while Free Lancer had 0% but definitely Freelancer cannot be zero but relatively few and was rounded up to 0 by the computation. "
   ]
  },
  {
   "cell_type": "code",
   "execution_count": 146,
   "metadata": {},
   "outputs": [
    {
     "data": {
      "image/png": "[encoded data removed]",
      "text/plain": [
       "<Figure size 216x360 with 1 Axes>"
      ]
     },
     "metadata": {
      "needs_background": "light"
     },
     "output_type": "display_data"
    }
   ],
   "source": [
    "labeled_barplot(Travel_data, \"Gender\", perc=True)"
   ]
  },
  {
   "cell_type": "markdown",
   "metadata": {},
   "source": [
    "### Observation: \n",
    "There are more Male enquiry customers (59.7%) but we cannot state whether we have more female that finally booked or male until we explore further"
   ]
  },
  {
   "cell_type": "code",
   "execution_count": 147,
   "metadata": {},
   "outputs": [
    {
     "data": {
      "image/png": "[encoded data removed]",
      "text/plain": [
       "<Figure size 288x360 with 1 Axes>"
      ]
     },
     "metadata": {
      "needs_background": "light"
     },
     "output_type": "display_data"
    }
   ],
   "source": [
    "labeled_barplot(Travel_data, \"PreferredPropertyStar\", perc=True)"
   ]
  },
  {
   "cell_type": "markdown",
   "metadata": {},
   "source": [
    "### Observation\n",
    "\n",
    "Preferred Property Star of '3' has the highest percentage of 61.5% while '4' and '5' are close to each other "
   ]
  },
  {
   "cell_type": "code",
   "execution_count": 148,
   "metadata": {},
   "outputs": [
    {
     "data": {
      "image/png": "[encoded data removed]",
      "text/plain": [
       "<Figure size 360x360 with 1 Axes>"
      ]
     },
     "metadata": {
      "needs_background": "light"
     },
     "output_type": "display_data"
    }
   ],
   "source": [
    "labeled_barplot(Travel_data, \"MaritalStatus\", perc=True)"
   ]
  },
  {
   "cell_type": "markdown",
   "metadata": {},
   "source": [
    "### Observation \n",
    "There are more married customers of 47.8% followed by Divorced, etc, but we may not be able to ascertain yet if there are more Married men that purchase the vacation package "
   ]
  },
  {
   "cell_type": "code",
   "execution_count": 149,
   "metadata": {},
   "outputs": [
    {
     "data": {
      "image/png": "[encoded data removed]",
      "text/plain": [
       "<Figure size 216x360 with 1 Axes>"
      ]
     },
     "metadata": {
      "needs_background": "light"
     },
     "output_type": "display_data"
    }
   ],
   "source": [
    "labeled_barplot(Travel_data, \"Passport\", perc=True)"
   ]
  },
  {
   "cell_type": "markdown",
   "metadata": {},
   "source": [
    "### Observation :\n",
    "There are only 29.3% of the enquiry customers that have passport, 70.7% do not have passport "
   ]
  },
  {
   "cell_type": "code",
   "execution_count": 150,
   "metadata": {},
   "outputs": [
    {
     "data": {
      "image/png": "[encoded data removed]",
      "text/plain": [
       "<Figure size 432x360 with 1 Axes>"
      ]
     },
     "metadata": {
      "needs_background": "light"
     },
     "output_type": "display_data"
    }
   ],
   "source": [
    "labeled_barplot(Travel_data, \"PitchSatisfactionScore\", perc=True)"
   ]
  },
  {
   "cell_type": "markdown",
   "metadata": {},
   "source": [
    "### Observation \n",
    "The PitcSatisfaction score of '3' is the highest followed by 5, 1, 4, 2 respectively "
   ]
  },
  {
   "cell_type": "code",
   "execution_count": 151,
   "metadata": {},
   "outputs": [
    {
     "data": {
      "image/png": "[encoded data removed]",
      "text/plain": [
       "<Figure size 216x360 with 1 Axes>"
      ]
     },
     "metadata": {
      "needs_background": "light"
     },
     "output_type": "display_data"
    }
   ],
   "source": [
    "labeled_barplot(Travel_data, \"OwnCar\", perc=True)"
   ]
  },
  {
   "cell_type": "markdown",
   "metadata": {},
   "source": [
    "### Observation\n",
    "There are 61.9% of customers with a car and 38.1% without a car "
   ]
  },
  {
   "cell_type": "code",
   "execution_count": 152,
   "metadata": {},
   "outputs": [
    {
     "data": {
      "image/png": "[encoded data removed]",
      "text/plain": [
       "<Figure size 432x360 with 1 Axes>"
      ]
     },
     "metadata": {
      "needs_background": "light"
     },
     "output_type": "display_data"
    }
   ],
   "source": [
    "labeled_barplot(Travel_data, \"Designation\", perc=True)"
   ]
  },
  {
   "cell_type": "markdown",
   "metadata": {},
   "source": [
    "### Observation\n",
    "There are more Executive (37.9%) followed by Managers (35.5%), Senior Manager (15.3%) etc"
   ]
  },
  {
   "cell_type": "markdown",
   "metadata": {},
   "source": [
    "# Bivariate Analysis Through Heatmap"
   ]
  },
  {
   "cell_type": "code",
   "execution_count": 153,
   "metadata": {},
   "outputs": [
    {
     "data": {
      "image/png": "[encoded data removed]",
      "text/plain": [
       "<Figure size 1440x720 with 2 Axes>"
      ]
     },
     "metadata": {
      "needs_background": "light"
     },
     "output_type": "display_data"
    }
   ],
   "source": [
    "#Use heat map to know the correlation of the numerical features\n",
    "plt.figure(figsize=(20,10))\n",
    "sns.heatmap(Travel_data.corr(),annot=True,vmin=-1,vmax=1,fmt='.2f',cmap=\"Spectral\")\n",
    "plt.show()"
   ]
  },
  {
   "cell_type": "markdown",
   "metadata": {},
   "source": [
    "### Observation\n",
    "Number of person Visiting  and the number of Children Visiting are a bit correlated and therefore one can be removed.\n",
    "\n",
    "Monthly income  and Age also have some form of correlation but not so hign"
   ]
  },
  {
   "cell_type": "code",
   "execution_count": 154,
   "metadata": {},
   "outputs": [
    {
     "data": {
      "text/html": [
       "<div>\n",
       "<style scoped>\n",
       "    .dataframe tbody tr th:only-of-type {\n",
       "        vertical-align: middle;\n",
       "    }\n",
       "\n",
       "    .dataframe tbody tr th {\n",
       "        vertical-align: top;\n",
       "    }\n",
       "\n",
       "    .dataframe thead th {\n",
       "        text-align: right;\n",
       "    }\n",
       "</style>\n",
       "<table border=\"1\" class=\"dataframe\">\n",
       "  <thead>\n",
       "    <tr style=\"text-align: right;\">\n",
       "      <th></th>\n",
       "      <th>count</th>\n",
       "      <th>unique</th>\n",
       "      <th>top</th>\n",
       "      <th>freq</th>\n",
       "    </tr>\n",
       "  </thead>\n",
       "  <tbody>\n",
       "    <tr>\n",
       "      <th>ProdTaken</th>\n",
       "      <td>4837</td>\n",
       "      <td>2</td>\n",
       "      <td>0</td>\n",
       "      <td>3926</td>\n",
       "    </tr>\n",
       "    <tr>\n",
       "      <th>TypeofContact</th>\n",
       "      <td>4837</td>\n",
       "      <td>2</td>\n",
       "      <td>Self Enquiry</td>\n",
       "      <td>3422</td>\n",
       "    </tr>\n",
       "    <tr>\n",
       "      <th>CityTier</th>\n",
       "      <td>4837</td>\n",
       "      <td>3</td>\n",
       "      <td>1</td>\n",
       "      <td>3155</td>\n",
       "    </tr>\n",
       "    <tr>\n",
       "      <th>Occupation</th>\n",
       "      <td>4837</td>\n",
       "      <td>4</td>\n",
       "      <td>Salaried</td>\n",
       "      <td>2347</td>\n",
       "    </tr>\n",
       "    <tr>\n",
       "      <th>ProductPitched</th>\n",
       "      <td>4837</td>\n",
       "      <td>5</td>\n",
       "      <td>Basic</td>\n",
       "      <td>1831</td>\n",
       "    </tr>\n",
       "    <tr>\n",
       "      <th>PreferredPropertyStar</th>\n",
       "      <td>4837</td>\n",
       "      <td>3</td>\n",
       "      <td>3</td>\n",
       "      <td>2974</td>\n",
       "    </tr>\n",
       "    <tr>\n",
       "      <th>MaritalStatus</th>\n",
       "      <td>4837</td>\n",
       "      <td>4</td>\n",
       "      <td>Married</td>\n",
       "      <td>2311</td>\n",
       "    </tr>\n",
       "    <tr>\n",
       "      <th>Passport</th>\n",
       "      <td>4837</td>\n",
       "      <td>2</td>\n",
       "      <td>0</td>\n",
       "      <td>3422</td>\n",
       "    </tr>\n",
       "    <tr>\n",
       "      <th>PitchSatisfactionScore</th>\n",
       "      <td>4837</td>\n",
       "      <td>5</td>\n",
       "      <td>3</td>\n",
       "      <td>1462</td>\n",
       "    </tr>\n",
       "    <tr>\n",
       "      <th>OwnCar</th>\n",
       "      <td>4837</td>\n",
       "      <td>2</td>\n",
       "      <td>1</td>\n",
       "      <td>2995</td>\n",
       "    </tr>\n",
       "    <tr>\n",
       "      <th>Designation</th>\n",
       "      <td>4837</td>\n",
       "      <td>5</td>\n",
       "      <td>Executive</td>\n",
       "      <td>1831</td>\n",
       "    </tr>\n",
       "  </tbody>\n",
       "</table>\n",
       "</div>"
      ],
      "text/plain": [
       "                       count unique           top  freq\n",
       "ProdTaken               4837      2             0  3926\n",
       "TypeofContact           4837      2  Self Enquiry  3422\n",
       "CityTier                4837      3             1  3155\n",
       "Occupation              4837      4      Salaried  2347\n",
       "ProductPitched          4837      5         Basic  1831\n",
       "PreferredPropertyStar   4837      3             3  2974\n",
       "MaritalStatus           4837      4       Married  2311\n",
       "Passport                4837      2             0  3422\n",
       "PitchSatisfactionScore  4837      5             3  1462\n",
       "OwnCar                  4837      2             1  2995\n",
       "Designation             4837      5     Executive  1831"
      ]
     },
     "execution_count": 154,
     "metadata": {},
     "output_type": "execute_result"
    }
   ],
   "source": [
    "#To understand the categorical variable \n",
    "Travel_data.describe(include=['category']).T"
   ]
  },
  {
   "cell_type": "markdown",
   "metadata": {},
   "source": [
    "### Observation:\n",
    "\n",
    "ProdTaken is our target variable with about 81% of \"No\" in respect to customers that will not buy the package \n",
    "\n",
    "Majority of the enquiry customers make self enquiry but we are not yet sure if the self enquiry purchased most\n",
    "\n",
    "Majority of the enquiry Customers are in CityTier 1 but we re not yet sure if the self enquiry purchased most\n",
    "\n",
    "There are more Male than Female among the customers enquiry\n",
    "\n",
    "Salaried enquiry customers are more in the occupation categories\n",
    "\n",
    "Most preferred Customers enquiry wants \"3\" star\n",
    "\n",
    "Majority of the enquiry customers do not have passport \n",
    "\n",
    "The highest pitchscore is '3'\n",
    "\n",
    "Majority of the enquiry customers owns a car \n",
    "\n",
    "Executives are the Majority of the customers that enquires"
   ]
  },
  {
   "cell_type": "markdown",
   "metadata": {},
   "source": [
    "# Bivariate Analysis using boxplot"
   ]
  },
  {
   "cell_type": "code",
   "execution_count": 155,
   "metadata": {},
   "outputs": [
    {
     "data": {
      "image/png": "[encoded data removed]",
      "text/plain": [
       "<Figure size 1080x1080 with 6 Axes>"
      ]
     },
     "metadata": {
      "needs_background": "light"
     },
     "output_type": "display_data"
    }
   ],
   "source": [
    "cols = Travel_data[['Age','DurationOfPitch','MonthlyIncome', 'NumberOfFollowups','NumberOfTrips', 'NumberOfPersonVisiting']].columns.tolist()\n",
    "plt.figure(figsize=(15,15))\n",
    "\n",
    "for i, variable in enumerate(cols):\n",
    "                     plt.subplot(3,2,i+1)\n",
    "                     sns.boxplot(Travel_data[\"ProdTaken\"],Travel_data[variable],palette=\"PuBu\")\n",
    "                     plt.tight_layout()\n",
    "                     plt.title(variable)\n",
    "plt.show()"
   ]
  },
  {
   "cell_type": "markdown",
   "metadata": {},
   "source": [
    "### Observations\n",
    "\n",
    "Customers that are young adult, less than 40, are likely to purchase the package \n",
    "\n",
    "Customers that the sales representative spend a higher time of pitch with are likely to purchase the package \n",
    "\n",
    "Number of Person Visiting and Number of Trips does not seem to have much effect on Product taken by the Customers\n",
    "\n",
    "The Monthly income earner that purchase the package are lumped around the same income earning range \n",
    "\n",
    "Customers with higher number of follow ups are likely to purchase the package "
   ]
  },
  {
   "cell_type": "markdown",
   "metadata": {},
   "source": [
    "# Bivariate Analysis for Categorical Variables using Stacked Bar Chart"
   ]
  },
  {
   "cell_type": "code",
   "execution_count": 156,
   "metadata": {},
   "outputs": [],
   "source": [
    "# function to plot stacked bar chart\n",
    "\n",
    "def stacked_barplot(data, predictor, target):\n",
    "    \"\"\"\n",
    "    Print the category counts and plot a stacked bar chart\n",
    "\n",
    "    data: dataframe\n",
    "    predictor: independent variable\n",
    "    target: target variable\n",
    "    \"\"\"\n",
    "    count = data[predictor].nunique()\n",
    "    sorter = data[target].value_counts().index[-1]\n",
    "    tab1 = pd.crosstab(data[predictor], data[target], margins=True).sort_values(\n",
    "        by=sorter, ascending=False\n",
    "    )\n",
    "    print(tab1)\n",
    "    print(\"-\" * 120)\n",
    "    tab = pd.crosstab(data[predictor], data[target], normalize=\"index\").sort_values(\n",
    "        by=sorter, ascending=False\n",
    "    )\n",
    "    tab.plot(kind=\"bar\", stacked=True, figsize=(count + 1, 5))\n",
    "    plt.legend(\n",
    "        loc=\"lower left\",\n",
    "        frameon=False,\n",
    "    )\n",
    "    plt.legend(loc=\"upper left\", bbox_to_anchor=(1, 1))\n",
    "    plt.show()"
   ]
  },
  {
   "cell_type": "code",
   "execution_count": 157,
   "metadata": {},
   "outputs": [
    {
     "name": "stdout",
     "output_type": "stream",
     "text": [
      "ProdTaken           0    1   All\n",
      "TypeofContact                   \n",
      "All              3926  911  4837\n",
      "Self Enquiry     2820  602  3422\n",
      "Company Invited  1106  309  1415\n",
      "------------------------------------------------------------------------------------------------------------------------\n"
     ]
    },
    {
     "data": {
      "image/png": "[encoded data removed]",
      "text/plain": [
       "<Figure size 216x360 with 1 Axes>"
      ]
     },
     "metadata": {
      "needs_background": "light"
     },
     "output_type": "display_data"
    }
   ],
   "source": [
    "stacked_barplot(Travel_data, \"TypeofContact\", \"ProdTaken\")"
   ]
  },
  {
   "cell_type": "markdown",
   "metadata": {},
   "source": [
    "### Observation\n",
    "Those customers that are Company Invited are more likely to purchase the vacation package \n",
    "\n",
    "There is ~27% probability that a company invited customer will purchase the vacation package "
   ]
  },
  {
   "cell_type": "code",
   "execution_count": 158,
   "metadata": {},
   "outputs": [
    {
     "name": "stdout",
     "output_type": "stream",
     "text": [
      "ProdTaken     0    1   All\n",
      "CityTier                  \n",
      "All        3926  911  4837\n",
      "1          2640  515  3155\n",
      "3          1137  350  1487\n",
      "2           149   46   195\n",
      "------------------------------------------------------------------------------------------------------------------------\n"
     ]
    },
    {
     "data": {
      "image/png": "[encoded data removed]",
      "text/plain": [
       "<Figure size 288x360 with 1 Axes>"
      ]
     },
     "metadata": {
      "needs_background": "light"
     },
     "output_type": "display_data"
    }
   ],
   "source": [
    "stacked_barplot(Travel_data, \"CityTier\", \"ProdTaken\")"
   ]
  },
  {
   "cell_type": "markdown",
   "metadata": {},
   "source": [
    "### Observation\n",
    "CityTier 2 & 3 have similar probability of purchase of the vacation package \n",
    "\n",
    "Tier 1 has the least even though it has the highest number of customers from our previous Univariate analysis\n"
   ]
  },
  {
   "cell_type": "code",
   "execution_count": 159,
   "metadata": {},
   "outputs": [
    {
     "name": "stdout",
     "output_type": "stream",
     "text": [
      "ProdTaken          0    1   All\n",
      "Occupation                     \n",
      "All             3926  911  4837\n",
      "Salaried        1936  411  2347\n",
      "Small Business  1678  378  2056\n",
      "Large Business   312  120   432\n",
      "Free Lancer        0    2     2\n",
      "------------------------------------------------------------------------------------------------------------------------\n"
     ]
    },
    {
     "data": {
      "image/png": "[encoded data removed]",
      "text/plain": [
       "<Figure size 360x360 with 1 Axes>"
      ]
     },
     "metadata": {
      "needs_background": "light"
     },
     "output_type": "display_data"
    }
   ],
   "source": [
    "stacked_barplot(Travel_data, \"Occupation\", \"ProdTaken\")"
   ]
  },
  {
   "cell_type": "markdown",
   "metadata": {},
   "source": [
    "### Observation \n",
    "\n",
    "100% of free Lancer who enquired actually purchased, even though they were just 2 customers\n",
    "\n",
    "Large Business have the highest percentage following Free Lancer with about 38% who purchased among the customers. "
   ]
  },
  {
   "cell_type": "code",
   "execution_count": 160,
   "metadata": {},
   "outputs": [
    {
     "name": "stdout",
     "output_type": "stream",
     "text": [
      "ProdTaken     0    1   All\n",
      "Gender                    \n",
      "All        3926  911  4837\n",
      "Male       2315  572  2887\n",
      "Female     1611  339  1950\n",
      "------------------------------------------------------------------------------------------------------------------------\n"
     ]
    },
    {
     "data": {
      "image/png": "[encoded data removed]",
      "text/plain": [
       "<Figure size 216x360 with 1 Axes>"
      ]
     },
     "metadata": {
      "needs_background": "light"
     },
     "output_type": "display_data"
    }
   ],
   "source": [
    "stacked_barplot(Travel_data, \"Gender\", \"ProdTaken\")"
   ]
  },
  {
   "cell_type": "markdown",
   "metadata": {},
   "source": [
    "### Observation\n",
    "Slightly there are more male than female that purchased the vacation package "
   ]
  },
  {
   "cell_type": "code",
   "execution_count": 161,
   "metadata": {},
   "outputs": [
    {
     "name": "stdout",
     "output_type": "stream",
     "text": [
      "ProdTaken          0    1   All\n",
      "ProductPitched                 \n",
      "All             3926  911  4837\n",
      "Basic           1282  549  1831\n",
      "Deluxe          1513  203  1716\n",
      "Standard         618  123   741\n",
      "Super Deluxe     322   20   342\n",
      "King             191   16   207\n",
      "------------------------------------------------------------------------------------------------------------------------\n"
     ]
    },
    {
     "data": {
      "image/png": "[encoded data removed]",
      "text/plain": [
       "<Figure size 432x360 with 1 Axes>"
      ]
     },
     "metadata": {
      "needs_background": "light"
     },
     "output_type": "display_data"
    }
   ],
   "source": [
    "stacked_barplot(Travel_data, \"ProductPitched\", \"ProdTaken\")"
   ]
  },
  {
   "cell_type": "markdown",
   "metadata": {},
   "source": [
    "### Observation\n",
    "More customers purchased Basic, followed by Standard and this may just be attributed to the cost as Basic would seem more cheaper"
   ]
  },
  {
   "cell_type": "code",
   "execution_count": 162,
   "metadata": {},
   "outputs": [
    {
     "name": "stdout",
     "output_type": "stream",
     "text": [
      "ProdTaken         0    1   All\n",
      "MaritalStatus                 \n",
      "All            3926  911  4837\n",
      "Married        1987  324  2311\n",
      "Single          606  300   906\n",
      "Unmarried       516  166   682\n",
      "Divorced        817  121   938\n",
      "------------------------------------------------------------------------------------------------------------------------\n"
     ]
    },
    {
     "data": {
      "image/png": "[encoded data removed]",
      "text/plain": [
       "<Figure size 360x360 with 1 Axes>"
      ]
     },
     "metadata": {
      "needs_background": "light"
     },
     "output_type": "display_data"
    }
   ],
   "source": [
    "stacked_barplot(Travel_data, \"MaritalStatus\", \"ProdTaken\")"
   ]
  },
  {
   "cell_type": "markdown",
   "metadata": {},
   "source": [
    "### Observation\n",
    "More singles purchased the product, followed by Unmarried, this may be due to them not having so much restriction of Children and Spouses and can easily go on vacation without much planning.\n",
    "\n",
    "Married and Divorced had almost the same percentage"
   ]
  },
  {
   "cell_type": "code",
   "execution_count": 163,
   "metadata": {},
   "outputs": [
    {
     "name": "stdout",
     "output_type": "stream",
     "text": [
      "ProdTaken     0    1   All\n",
      "Passport                  \n",
      "All        3926  911  4837\n",
      "1           924  491  1415\n",
      "0          3002  420  3422\n",
      "------------------------------------------------------------------------------------------------------------------------\n"
     ]
    },
    {
     "data": {
      "image/png": "[encoded data removed]",
      "text/plain": [
       "<Figure size 216x360 with 1 Axes>"
      ]
     },
     "metadata": {
      "needs_background": "light"
     },
     "output_type": "display_data"
    }
   ],
   "source": [
    "stacked_barplot(Travel_data, \"Passport\", \"ProdTaken\")"
   ]
  },
  {
   "cell_type": "markdown",
   "metadata": {},
   "source": [
    "### Observation\n",
    "More people with passport actually purchased the vacation package, even though earlier we understood that there are more people without passport that enquired. "
   ]
  },
  {
   "cell_type": "code",
   "execution_count": 164,
   "metadata": {},
   "outputs": [
    {
     "name": "stdout",
     "output_type": "stream",
     "text": [
      "ProdTaken     0    1   All\n",
      "OwnCar                    \n",
      "All        3926  911  4837\n",
      "1          2442  553  2995\n",
      "0          1484  358  1842\n",
      "------------------------------------------------------------------------------------------------------------------------\n"
     ]
    },
    {
     "data": {
      "image/png": "[encoded data removed]",
      "text/plain": [
       "<Figure size 216x360 with 1 Axes>"
      ]
     },
     "metadata": {
      "needs_background": "light"
     },
     "output_type": "display_data"
    }
   ],
   "source": [
    "stacked_barplot(Travel_data, \"OwnCar\", \"ProdTaken\")"
   ]
  },
  {
   "cell_type": "markdown",
   "metadata": {},
   "source": [
    "### Observation \n",
    "Customer with Car and without car does not really have much effect on the purchase of the vacation package"
   ]
  },
  {
   "cell_type": "code",
   "execution_count": 165,
   "metadata": {},
   "outputs": [
    {
     "name": "stdout",
     "output_type": "stream",
     "text": [
      "ProdTaken          0    1   All\n",
      "Designation                    \n",
      "All             3926  911  4837\n",
      "Executive       1282  549  1831\n",
      "Manager         1513  203  1716\n",
      "Senior Manager   618  123   741\n",
      "AVP              322   20   342\n",
      "VP               191   16   207\n",
      "------------------------------------------------------------------------------------------------------------------------\n"
     ]
    },
    {
     "data": {
      "image/png": "[encoded data removed]",
      "text/plain": [
       "<Figure size 432x360 with 1 Axes>"
      ]
     },
     "metadata": {
      "needs_background": "light"
     },
     "output_type": "display_data"
    }
   ],
   "source": [
    "stacked_barplot(Travel_data, \"Designation\", \"ProdTaken\")"
   ]
  },
  {
   "cell_type": "markdown",
   "metadata": {},
   "source": [
    "### Observation\n",
    "More Executives, followed by Senior Managers and Managers purchased the package "
   ]
  },
  {
   "cell_type": "markdown",
   "metadata": {},
   "source": [
    "# Data Pre-Processing "
   ]
  },
  {
   "cell_type": "code",
   "execution_count": 166,
   "metadata": {},
   "outputs": [],
   "source": [
    "#Dropping the column where the column correlates \n",
    "Travel_data.drop(['NumberOfChildrenVisiting'], axis = 1, inplace=True)"
   ]
  },
  {
   "cell_type": "markdown",
   "metadata": {},
   "source": [
    "#### Remove Outliers from the following features :DurationOfPitch, MonthlyIncome, NumberOfPersonVisiting, NumberOfTrips\n"
   ]
  },
  {
   "cell_type": "code",
   "execution_count": 167,
   "metadata": {},
   "outputs": [
    {
     "data": {
      "image/png": "[encoded data removed]",
      "text/plain": [
       "<Figure size 1440x2160 with 6 Axes>"
      ]
     },
     "metadata": {
      "needs_background": "light"
     },
     "output_type": "display_data"
    }
   ],
   "source": [
    "# Detect the outlier in the numerical variables using boxplot\n",
    "numerical_col = Travel_data.select_dtypes(include=np.number).columns.tolist()\n",
    "plt.figure(figsize=(20,30))\n",
    "\n",
    "for i, variable in enumerate(numerical_col):\n",
    "                     plt.subplot(5,4,i+1)\n",
    "                     plt.boxplot(Travel_data[variable],whis=1.5)\n",
    "                     plt.tight_layout()\n",
    "                     plt.title(variable)\n",
    "\n",
    "plt.show()"
   ]
  },
  {
   "cell_type": "code",
   "execution_count": 168,
   "metadata": {},
   "outputs": [],
   "source": [
    "#Outlier functions \n",
    "def treat_outliers(data,col):\n",
    "    '''\n",
    "    treats outliers in a varaible\n",
    "    col: str, name of the numerical varaible\n",
    "    data: data frame\n",
    "    col: name of the column\n",
    "    '''\n",
    "    Q1=data[col].quantile(0.25) # 25th quantile\n",
    "    Q3=data[col].quantile(0.75)  # 75th quantile\n",
    "    IQR=Q3-Q1\n",
    "    Lower_Whisker = Q1 - 1.5*IQR \n",
    "    Upper_Whisker = Q3 + 1.5*IQR\n",
    "    data[col] = np.clip(data[col], Lower_Whisker, Upper_Whisker) # all the values smaller than Lower_Whisker will be assigned value of Lower_whisker \n",
    "                                                            # and all the values above upper_whisker will be assigned value of upper_Whisker \n",
    "    return data\n",
    "\n",
    "def treat_outliers_all(data, col_list):\n",
    "    '''\n",
    "    treat outlier in all numerical varaibles\n",
    "    col_list: list of numerical varaibles\n",
    "    data: data frame\n",
    "    '''\n",
    "    for c in col_list:\n",
    "        data = treat_outliers(data,c)\n",
    "        \n",
    "    return data\n",
    "    "
   ]
  },
  {
   "cell_type": "code",
   "execution_count": 169,
   "metadata": {},
   "outputs": [],
   "source": [
    "#Remove the outliers in numerical features\n",
    "numerical_col = Travel_data.select_dtypes(include=np.number).columns.tolist()# getting list of numerical columns\n",
    "\n",
    "Travel_data = treat_outliers_all(Travel_data,numerical_col)"
   ]
  },
  {
   "cell_type": "code",
   "execution_count": 170,
   "metadata": {},
   "outputs": [
    {
     "data": {
      "image/png": "[encoded data removed]",
      "text/plain": [
       "<Figure size 1440x2160 with 6 Axes>"
      ]
     },
     "metadata": {
      "needs_background": "light"
     },
     "output_type": "display_data"
    }
   ],
   "source": [
    "# Confirm the outliers have been removed\n",
    "numerical_col = Travel_data.select_dtypes(include=np.number).columns.tolist()\n",
    "plt.figure(figsize=(20,30))\n",
    "\n",
    "for i, variable in enumerate(numerical_col):\n",
    "                     plt.subplot(5,4,i+1)\n",
    "                     plt.boxplot(Travel_data[variable],whis=1.5)\n",
    "                     plt.tight_layout()\n",
    "                     plt.title(variable)\n",
    "\n",
    "plt.show()"
   ]
  },
  {
   "cell_type": "markdown",
   "metadata": {},
   "source": [
    "### Data Modelling "
   ]
  },
  {
   "cell_type": "markdown",
   "metadata": {},
   "source": [
    "### Encode the categorical variables using dummies and define the input and target variable"
   ]
  },
  {
   "cell_type": "code",
   "execution_count": 171,
   "metadata": {},
   "outputs": [],
   "source": [
    "X = Travel_data.drop(['ProdTaken'],axis=1)\n",
    "X = pd.get_dummies(X,drop_first=True)\n",
    "y = Travel_data ['ProdTaken']"
   ]
  },
  {
   "cell_type": "code",
   "execution_count": 172,
   "metadata": {},
   "outputs": [
    {
     "data": {
      "text/html": [
       "<div>\n",
       "<style scoped>\n",
       "    .dataframe tbody tr th:only-of-type {\n",
       "        vertical-align: middle;\n",
       "    }\n",
       "\n",
       "    .dataframe tbody tr th {\n",
       "        vertical-align: top;\n",
       "    }\n",
       "\n",
       "    .dataframe thead th {\n",
       "        text-align: right;\n",
       "    }\n",
       "</style>\n",
       "<table border=\"1\" class=\"dataframe\">\n",
       "  <thead>\n",
       "    <tr style=\"text-align: right;\">\n",
       "      <th></th>\n",
       "      <th>Age</th>\n",
       "      <th>DurationOfPitch</th>\n",
       "      <th>NumberOfPersonVisiting</th>\n",
       "      <th>NumberOfFollowups</th>\n",
       "      <th>NumberOfTrips</th>\n",
       "      <th>MonthlyIncome</th>\n",
       "      <th>TypeofContact_Self Enquiry</th>\n",
       "      <th>CityTier_2</th>\n",
       "      <th>CityTier_3</th>\n",
       "      <th>Occupation_Large Business</th>\n",
       "      <th>...</th>\n",
       "      <th>Passport_1</th>\n",
       "      <th>PitchSatisfactionScore_2</th>\n",
       "      <th>PitchSatisfactionScore_3</th>\n",
       "      <th>PitchSatisfactionScore_4</th>\n",
       "      <th>PitchSatisfactionScore_5</th>\n",
       "      <th>OwnCar_1</th>\n",
       "      <th>Designation_Executive</th>\n",
       "      <th>Designation_Manager</th>\n",
       "      <th>Designation_Senior Manager</th>\n",
       "      <th>Designation_VP</th>\n",
       "    </tr>\n",
       "    <tr>\n",
       "      <th>CustomerID</th>\n",
       "      <th></th>\n",
       "      <th></th>\n",
       "      <th></th>\n",
       "      <th></th>\n",
       "      <th></th>\n",
       "      <th></th>\n",
       "      <th></th>\n",
       "      <th></th>\n",
       "      <th></th>\n",
       "      <th></th>\n",
       "      <th></th>\n",
       "      <th></th>\n",
       "      <th></th>\n",
       "      <th></th>\n",
       "      <th></th>\n",
       "      <th></th>\n",
       "      <th></th>\n",
       "      <th></th>\n",
       "      <th></th>\n",
       "      <th></th>\n",
       "      <th></th>\n",
       "    </tr>\n",
       "  </thead>\n",
       "  <tbody>\n",
       "    <tr>\n",
       "      <th>200000</th>\n",
       "      <td>41</td>\n",
       "      <td>6.0</td>\n",
       "      <td>3.0</td>\n",
       "      <td>3.0</td>\n",
       "      <td>1</td>\n",
       "      <td>20993.0</td>\n",
       "      <td>1</td>\n",
       "      <td>0</td>\n",
       "      <td>1</td>\n",
       "      <td>0</td>\n",
       "      <td>...</td>\n",
       "      <td>1</td>\n",
       "      <td>1</td>\n",
       "      <td>0</td>\n",
       "      <td>0</td>\n",
       "      <td>0</td>\n",
       "      <td>1</td>\n",
       "      <td>0</td>\n",
       "      <td>1</td>\n",
       "      <td>0</td>\n",
       "      <td>0</td>\n",
       "    </tr>\n",
       "    <tr>\n",
       "      <th>200001</th>\n",
       "      <td>49</td>\n",
       "      <td>14.0</td>\n",
       "      <td>3.0</td>\n",
       "      <td>4.0</td>\n",
       "      <td>2</td>\n",
       "      <td>20130.0</td>\n",
       "      <td>0</td>\n",
       "      <td>0</td>\n",
       "      <td>0</td>\n",
       "      <td>0</td>\n",
       "      <td>...</td>\n",
       "      <td>0</td>\n",
       "      <td>0</td>\n",
       "      <td>1</td>\n",
       "      <td>0</td>\n",
       "      <td>0</td>\n",
       "      <td>1</td>\n",
       "      <td>0</td>\n",
       "      <td>1</td>\n",
       "      <td>0</td>\n",
       "      <td>0</td>\n",
       "    </tr>\n",
       "    <tr>\n",
       "      <th>200002</th>\n",
       "      <td>37</td>\n",
       "      <td>8.0</td>\n",
       "      <td>3.0</td>\n",
       "      <td>4.0</td>\n",
       "      <td>7</td>\n",
       "      <td>17090.0</td>\n",
       "      <td>1</td>\n",
       "      <td>0</td>\n",
       "      <td>0</td>\n",
       "      <td>0</td>\n",
       "      <td>...</td>\n",
       "      <td>1</td>\n",
       "      <td>0</td>\n",
       "      <td>1</td>\n",
       "      <td>0</td>\n",
       "      <td>0</td>\n",
       "      <td>0</td>\n",
       "      <td>1</td>\n",
       "      <td>0</td>\n",
       "      <td>0</td>\n",
       "      <td>0</td>\n",
       "    </tr>\n",
       "    <tr>\n",
       "      <th>200003</th>\n",
       "      <td>33</td>\n",
       "      <td>9.0</td>\n",
       "      <td>2.0</td>\n",
       "      <td>3.0</td>\n",
       "      <td>2</td>\n",
       "      <td>17909.0</td>\n",
       "      <td>0</td>\n",
       "      <td>0</td>\n",
       "      <td>0</td>\n",
       "      <td>0</td>\n",
       "      <td>...</td>\n",
       "      <td>1</td>\n",
       "      <td>0</td>\n",
       "      <td>0</td>\n",
       "      <td>0</td>\n",
       "      <td>1</td>\n",
       "      <td>1</td>\n",
       "      <td>1</td>\n",
       "      <td>0</td>\n",
       "      <td>0</td>\n",
       "      <td>0</td>\n",
       "    </tr>\n",
       "    <tr>\n",
       "      <th>200004</th>\n",
       "      <td>36</td>\n",
       "      <td>8.0</td>\n",
       "      <td>2.0</td>\n",
       "      <td>3.0</td>\n",
       "      <td>1</td>\n",
       "      <td>18468.0</td>\n",
       "      <td>1</td>\n",
       "      <td>0</td>\n",
       "      <td>0</td>\n",
       "      <td>0</td>\n",
       "      <td>...</td>\n",
       "      <td>0</td>\n",
       "      <td>0</td>\n",
       "      <td>0</td>\n",
       "      <td>0</td>\n",
       "      <td>1</td>\n",
       "      <td>1</td>\n",
       "      <td>1</td>\n",
       "      <td>0</td>\n",
       "      <td>0</td>\n",
       "      <td>0</td>\n",
       "    </tr>\n",
       "    <tr>\n",
       "      <th>...</th>\n",
       "      <td>...</td>\n",
       "      <td>...</td>\n",
       "      <td>...</td>\n",
       "      <td>...</td>\n",
       "      <td>...</td>\n",
       "      <td>...</td>\n",
       "      <td>...</td>\n",
       "      <td>...</td>\n",
       "      <td>...</td>\n",
       "      <td>...</td>\n",
       "      <td>...</td>\n",
       "      <td>...</td>\n",
       "      <td>...</td>\n",
       "      <td>...</td>\n",
       "      <td>...</td>\n",
       "      <td>...</td>\n",
       "      <td>...</td>\n",
       "      <td>...</td>\n",
       "      <td>...</td>\n",
       "      <td>...</td>\n",
       "      <td>...</td>\n",
       "    </tr>\n",
       "    <tr>\n",
       "      <th>204883</th>\n",
       "      <td>49</td>\n",
       "      <td>9.0</td>\n",
       "      <td>3.0</td>\n",
       "      <td>5.0</td>\n",
       "      <td>2</td>\n",
       "      <td>26576.0</td>\n",
       "      <td>1</td>\n",
       "      <td>0</td>\n",
       "      <td>1</td>\n",
       "      <td>0</td>\n",
       "      <td>...</td>\n",
       "      <td>1</td>\n",
       "      <td>0</td>\n",
       "      <td>0</td>\n",
       "      <td>0</td>\n",
       "      <td>0</td>\n",
       "      <td>1</td>\n",
       "      <td>0</td>\n",
       "      <td>1</td>\n",
       "      <td>0</td>\n",
       "      <td>0</td>\n",
       "    </tr>\n",
       "    <tr>\n",
       "      <th>204884</th>\n",
       "      <td>28</td>\n",
       "      <td>31.0</td>\n",
       "      <td>4.0</td>\n",
       "      <td>5.0</td>\n",
       "      <td>3</td>\n",
       "      <td>21212.0</td>\n",
       "      <td>0</td>\n",
       "      <td>0</td>\n",
       "      <td>0</td>\n",
       "      <td>0</td>\n",
       "      <td>...</td>\n",
       "      <td>1</td>\n",
       "      <td>0</td>\n",
       "      <td>1</td>\n",
       "      <td>0</td>\n",
       "      <td>0</td>\n",
       "      <td>1</td>\n",
       "      <td>1</td>\n",
       "      <td>0</td>\n",
       "      <td>0</td>\n",
       "      <td>0</td>\n",
       "    </tr>\n",
       "    <tr>\n",
       "      <th>204885</th>\n",
       "      <td>52</td>\n",
       "      <td>17.0</td>\n",
       "      <td>4.0</td>\n",
       "      <td>4.0</td>\n",
       "      <td>7</td>\n",
       "      <td>31820.0</td>\n",
       "      <td>1</td>\n",
       "      <td>0</td>\n",
       "      <td>1</td>\n",
       "      <td>0</td>\n",
       "      <td>...</td>\n",
       "      <td>0</td>\n",
       "      <td>0</td>\n",
       "      <td>0</td>\n",
       "      <td>0</td>\n",
       "      <td>0</td>\n",
       "      <td>1</td>\n",
       "      <td>0</td>\n",
       "      <td>0</td>\n",
       "      <td>1</td>\n",
       "      <td>0</td>\n",
       "    </tr>\n",
       "    <tr>\n",
       "      <th>204886</th>\n",
       "      <td>19</td>\n",
       "      <td>16.0</td>\n",
       "      <td>3.0</td>\n",
       "      <td>4.0</td>\n",
       "      <td>3</td>\n",
       "      <td>20289.0</td>\n",
       "      <td>1</td>\n",
       "      <td>0</td>\n",
       "      <td>1</td>\n",
       "      <td>0</td>\n",
       "      <td>...</td>\n",
       "      <td>0</td>\n",
       "      <td>0</td>\n",
       "      <td>0</td>\n",
       "      <td>0</td>\n",
       "      <td>1</td>\n",
       "      <td>0</td>\n",
       "      <td>1</td>\n",
       "      <td>0</td>\n",
       "      <td>0</td>\n",
       "      <td>0</td>\n",
       "    </tr>\n",
       "    <tr>\n",
       "      <th>204887</th>\n",
       "      <td>36</td>\n",
       "      <td>14.0</td>\n",
       "      <td>4.0</td>\n",
       "      <td>4.0</td>\n",
       "      <td>3</td>\n",
       "      <td>24041.0</td>\n",
       "      <td>1</td>\n",
       "      <td>0</td>\n",
       "      <td>0</td>\n",
       "      <td>0</td>\n",
       "      <td>...</td>\n",
       "      <td>1</td>\n",
       "      <td>0</td>\n",
       "      <td>1</td>\n",
       "      <td>0</td>\n",
       "      <td>0</td>\n",
       "      <td>1</td>\n",
       "      <td>1</td>\n",
       "      <td>0</td>\n",
       "      <td>0</td>\n",
       "      <td>0</td>\n",
       "    </tr>\n",
       "  </tbody>\n",
       "</table>\n",
       "<p>4837 rows × 32 columns</p>\n",
       "</div>"
      ],
      "text/plain": [
       "            Age  DurationOfPitch  NumberOfPersonVisiting  NumberOfFollowups  \\\n",
       "CustomerID                                                                    \n",
       "200000       41              6.0                     3.0                3.0   \n",
       "200001       49             14.0                     3.0                4.0   \n",
       "200002       37              8.0                     3.0                4.0   \n",
       "200003       33              9.0                     2.0                3.0   \n",
       "200004       36              8.0                     2.0                3.0   \n",
       "...         ...              ...                     ...                ...   \n",
       "204883       49              9.0                     3.0                5.0   \n",
       "204884       28             31.0                     4.0                5.0   \n",
       "204885       52             17.0                     4.0                4.0   \n",
       "204886       19             16.0                     3.0                4.0   \n",
       "204887       36             14.0                     4.0                4.0   \n",
       "\n",
       "            NumberOfTrips  MonthlyIncome  TypeofContact_Self Enquiry  \\\n",
       "CustomerID                                                             \n",
       "200000                  1        20993.0                           1   \n",
       "200001                  2        20130.0                           0   \n",
       "200002                  7        17090.0                           1   \n",
       "200003                  2        17909.0                           0   \n",
       "200004                  1        18468.0                           1   \n",
       "...                   ...            ...                         ...   \n",
       "204883                  2        26576.0                           1   \n",
       "204884                  3        21212.0                           0   \n",
       "204885                  7        31820.0                           1   \n",
       "204886                  3        20289.0                           1   \n",
       "204887                  3        24041.0                           1   \n",
       "\n",
       "            CityTier_2  CityTier_3  Occupation_Large Business  ...  \\\n",
       "CustomerID                                                     ...   \n",
       "200000               0           1                          0  ...   \n",
       "200001               0           0                          0  ...   \n",
       "200002               0           0                          0  ...   \n",
       "200003               0           0                          0  ...   \n",
       "200004               0           0                          0  ...   \n",
       "...                ...         ...                        ...  ...   \n",
       "204883               0           1                          0  ...   \n",
       "204884               0           0                          0  ...   \n",
       "204885               0           1                          0  ...   \n",
       "204886               0           1                          0  ...   \n",
       "204887               0           0                          0  ...   \n",
       "\n",
       "            Passport_1  PitchSatisfactionScore_2  PitchSatisfactionScore_3  \\\n",
       "CustomerID                                                                   \n",
       "200000               1                         1                         0   \n",
       "200001               0                         0                         1   \n",
       "200002               1                         0                         1   \n",
       "200003               1                         0                         0   \n",
       "200004               0                         0                         0   \n",
       "...                ...                       ...                       ...   \n",
       "204883               1                         0                         0   \n",
       "204884               1                         0                         1   \n",
       "204885               0                         0                         0   \n",
       "204886               0                         0                         0   \n",
       "204887               1                         0                         1   \n",
       "\n",
       "            PitchSatisfactionScore_4  PitchSatisfactionScore_5  OwnCar_1  \\\n",
       "CustomerID                                                                 \n",
       "200000                             0                         0         1   \n",
       "200001                             0                         0         1   \n",
       "200002                             0                         0         0   \n",
       "200003                             0                         1         1   \n",
       "200004                             0                         1         1   \n",
       "...                              ...                       ...       ...   \n",
       "204883                             0                         0         1   \n",
       "204884                             0                         0         1   \n",
       "204885                             0                         0         1   \n",
       "204886                             0                         1         0   \n",
       "204887                             0                         0         1   \n",
       "\n",
       "            Designation_Executive  Designation_Manager  \\\n",
       "CustomerID                                               \n",
       "200000                          0                    1   \n",
       "200001                          0                    1   \n",
       "200002                          1                    0   \n",
       "200003                          1                    0   \n",
       "200004                          1                    0   \n",
       "...                           ...                  ...   \n",
       "204883                          0                    1   \n",
       "204884                          1                    0   \n",
       "204885                          0                    0   \n",
       "204886                          1                    0   \n",
       "204887                          1                    0   \n",
       "\n",
       "            Designation_Senior Manager  Designation_VP  \n",
       "CustomerID                                              \n",
       "200000                               0               0  \n",
       "200001                               0               0  \n",
       "200002                               0               0  \n",
       "200003                               0               0  \n",
       "200004                               0               0  \n",
       "...                                ...             ...  \n",
       "204883                               0               0  \n",
       "204884                               0               0  \n",
       "204885                               1               0  \n",
       "204886                               0               0  \n",
       "204887                               0               0  \n",
       "\n",
       "[4837 rows x 32 columns]"
      ]
     },
     "execution_count": 172,
     "metadata": {},
     "output_type": "execute_result"
    }
   ],
   "source": [
    "#Confirm the categorical variables have been replace with 0's and 1's \n",
    "X"
   ]
  },
  {
   "cell_type": "code",
   "execution_count": 173,
   "metadata": {},
   "outputs": [
    {
     "name": "stdout",
     "output_type": "stream",
     "text": [
      "(3385, 32) (1452, 32)\n"
     ]
    }
   ],
   "source": [
    "# Splitting data into training and test set:\n",
    "X_train, X_test, y_train, y_test =train_test_split(X, y, test_size=0.3, random_state=1,stratify=y)\n",
    "print(X_train.shape, X_test.shape)"
   ]
  },
  {
   "cell_type": "code",
   "execution_count": 174,
   "metadata": {},
   "outputs": [
    {
     "data": {
      "text/plain": [
       "0    0.81166\n",
       "1    0.18834\n",
       "Name: ProdTaken, dtype: float64"
      ]
     },
     "execution_count": 174,
     "metadata": {},
     "output_type": "execute_result"
    }
   ],
   "source": [
    "y.value_counts(1)"
   ]
  },
  {
   "cell_type": "markdown",
   "metadata": {},
   "source": [
    "### Model Evaluation Criterion\n",
    "1. Predicting that a customer will purchase and the customer do not purchase \n",
    "\n",
    "2. Predicting that a customer will not purchase and the customer purchased \n",
    "\n",
    "### Which Case is more important ?\n",
    "\n",
    "#### Predicting a customer will purchase while in actual the person do not purchase is more important; \n",
    "\n",
    "(The reason why this is the main prediction is that, the company would have spent so much money marketing to those customers and this would still bring the company to its previous state whereby they would spend so much money on those who should not be targetted)\n",
    "\n",
    "Therefore, the company would want Precison maximized, greater precision higher the chances of minimizing false positive (Predicting someone would purchase the package when in actual would not purchase).The focus should be on increasing precision or minimizing false positive. "
   ]
  },
  {
   "cell_type": "markdown",
   "metadata": {},
   "source": [
    "### Defining functions that would be used to compute the results, prior to modelling"
   ]
  },
  {
   "cell_type": "code",
   "execution_count": 175,
   "metadata": {},
   "outputs": [],
   "source": [
    "# defining a function to compute different metrics to check performance of a classification model built using sklearn\n",
    "def model_performance_classification_sklearn(model, predictors, target):\n",
    "    \"\"\"\n",
    "    Function to compute different metrics to check classification model performance\n",
    "\n",
    "    model: classifier\n",
    "    predictors: independent variables\n",
    "    target: dependent variable\n",
    "    \"\"\"\n",
    "\n",
    "    # predicting using the independent variables\n",
    "    pred = model.predict(predictors)\n",
    "\n",
    "    acc = accuracy_score(target, pred)  # to compute Accuracy\n",
    "    recall = recall_score(target, pred)  # to compute Recall\n",
    "    precision = precision_score(target, pred)  # to compute Precision\n",
    "    f1 = f1_score(target, pred)  # to compute F1-score\n",
    "\n",
    "    # creating a dataframe of metrics\n",
    "    df_perf = pd.DataFrame(\n",
    "        {\n",
    "            \"Accuracy\": acc,\n",
    "            \"Recall\": recall,\n",
    "            \"Precision\": precision,\n",
    "            \"F1\": f1,\n",
    "        },\n",
    "        index=[0],\n",
    "    )\n",
    "\n",
    "    return df_perf"
   ]
  },
  {
   "cell_type": "code",
   "execution_count": 176,
   "metadata": {},
   "outputs": [],
   "source": [
    "def confusion_matrix_sklearn(model, predictors, target):\n",
    "    \"\"\"\n",
    "    To plot the confusion_matrix with percentages\n",
    "\n",
    "    model: classifier\n",
    "    predictors: independent variables\n",
    "    target: dependent variable\n",
    "    \"\"\"\n",
    "    y_pred = model.predict(predictors)\n",
    "    cm = confusion_matrix(target, y_pred)\n",
    "    labels = np.asarray(\n",
    "        [\n",
    "            [\"{0:0.0f}\".format(item) + \"\\n{0:.2%}\".format(item / cm.flatten().sum())]\n",
    "            for item in cm.flatten()\n",
    "        ]\n",
    "    ).reshape(2, 2)\n",
    "\n",
    "    plt.figure(figsize=(6, 4))\n",
    "    sns.heatmap(cm, annot=labels, fmt=\"\")\n",
    "    plt.ylabel(\"True label\")\n",
    "    plt.xlabel(\"Predicted label\")"
   ]
  },
  {
   "cell_type": "markdown",
   "metadata": {},
   "source": [
    "### Decision Tree Model"
   ]
  },
  {
   "cell_type": "code",
   "execution_count": 177,
   "metadata": {},
   "outputs": [],
   "source": [
    "#we can pass a dictionary {0:0.18,1:0.81} to the model to specify the weight of each class and the decision tree will give more weightage to class 1.\n",
    "dtree = DecisionTreeClassifier(criterion='gini',class_weight={0:0.18,1:0.81},random_state=1)"
   ]
  },
  {
   "cell_type": "code",
   "execution_count": 178,
   "metadata": {},
   "outputs": [
    {
     "data": {
      "text/plain": [
       "DecisionTreeClassifier(class_weight={0: 0.18, 1: 0.81}, random_state=1)"
      ]
     },
     "execution_count": 178,
     "metadata": {},
     "output_type": "execute_result"
    }
   ],
   "source": [
    "dtree.fit(X_train, y_train)"
   ]
  },
  {
   "cell_type": "code",
   "execution_count": 179,
   "metadata": {},
   "outputs": [
    {
     "data": {
      "image/png": "[encoded data removed]",
      "text/plain": [
       "<Figure size 432x288 with 2 Axes>"
      ]
     },
     "metadata": {
      "needs_background": "light"
     },
     "output_type": "display_data"
    }
   ],
   "source": [
    "confusion_matrix_sklearn(dtree, X_test, y_test)"
   ]
  },
  {
   "cell_type": "code",
   "execution_count": 180,
   "metadata": {},
   "outputs": [
    {
     "name": "stdout",
     "output_type": "stream",
     "text": [
      "Training performance \n",
      "    Accuracy  Recall  Precision   F1\n",
      "0       1.0     1.0        1.0  1.0\n"
     ]
    }
   ],
   "source": [
    "dtree_model_train_perf=model_performance_classification_sklearn(dtree, X_train, y_train)\n",
    "print(\"Training performance \\n\",dtree_model_train_perf)"
   ]
  },
  {
   "cell_type": "code",
   "execution_count": 181,
   "metadata": {},
   "outputs": [
    {
     "name": "stdout",
     "output_type": "stream",
     "text": [
      "Testing performance \n",
      "    Accuracy    Recall  Precision        F1\n",
      "0  0.893251  0.732601    0.70922  0.720721\n"
     ]
    }
   ],
   "source": [
    "dtree_model_test_perf=model_performance_classification_sklearn(dtree, X_test, y_test)\n",
    "print(\"Testing performance \\n\",dtree_model_test_perf)"
   ]
  },
  {
   "cell_type": "markdown",
   "metadata": {},
   "source": [
    "### Observation\n",
    "Decision tree is working well on the training data but is not able to generalise well on the test data concerning the Precision"
   ]
  },
  {
   "cell_type": "markdown",
   "metadata": {},
   "source": [
    "### Bagging Classifier Model"
   ]
  },
  {
   "cell_type": "code",
   "execution_count": 182,
   "metadata": {},
   "outputs": [
    {
     "data": {
      "text/plain": [
       "BaggingClassifier(random_state=1)"
      ]
     },
     "execution_count": 182,
     "metadata": {},
     "output_type": "execute_result"
    }
   ],
   "source": [
    "bagging = BaggingClassifier(random_state=1)\n",
    "bagging.fit(X_train,y_train)"
   ]
  },
  {
   "cell_type": "code",
   "execution_count": 183,
   "metadata": {},
   "outputs": [
    {
     "data": {
      "image/png": "[encoded data removed]",
      "text/plain": [
       "<Figure size 432x288 with 2 Axes>"
      ]
     },
     "metadata": {
      "needs_background": "light"
     },
     "output_type": "display_data"
    }
   ],
   "source": [
    "confusion_matrix_sklearn(bagging, X_test, y_test)"
   ]
  },
  {
   "cell_type": "code",
   "execution_count": 184,
   "metadata": {},
   "outputs": [
    {
     "name": "stdout",
     "output_type": "stream",
     "text": [
      "Training performance \n",
      "    Accuracy    Recall  Precision        F1\n",
      "0  0.993205  0.968652   0.995169  0.981732\n"
     ]
    }
   ],
   "source": [
    "bagging_model_train_perf=model_performance_classification_sklearn(bagging, X_train, y_train)\n",
    "print(\"Training performance \\n\",bagging_model_train_perf)"
   ]
  },
  {
   "cell_type": "code",
   "execution_count": 185,
   "metadata": {},
   "outputs": [
    {
     "name": "stdout",
     "output_type": "stream",
     "text": [
      "Testing performance \n",
      "    Accuracy    Recall  Precision        F1\n",
      "0  0.913912  0.655678   0.852381  0.741201\n"
     ]
    }
   ],
   "source": [
    "bagging_model_test_perf=model_performance_classification_sklearn(bagging, X_test, y_test)\n",
    "print(\"Testing performance \\n\",bagging_model_test_perf)"
   ]
  },
  {
   "cell_type": "markdown",
   "metadata": {},
   "source": [
    "### Observation\n",
    "Bagging Classifier shows a good model on the training data but is not able to generalise well on the test data but the performance on precision is still better"
   ]
  },
  {
   "cell_type": "markdown",
   "metadata": {},
   "source": [
    "### Random Forest Model"
   ]
  },
  {
   "cell_type": "code",
   "execution_count": 186,
   "metadata": {},
   "outputs": [
    {
     "data": {
      "text/plain": [
       "RandomForestClassifier(random_state=1)"
      ]
     },
     "execution_count": 186,
     "metadata": {},
     "output_type": "execute_result"
    }
   ],
   "source": [
    "rf = RandomForestClassifier(random_state=1)\n",
    "rf.fit(X_train,y_train)"
   ]
  },
  {
   "cell_type": "code",
   "execution_count": 187,
   "metadata": {},
   "outputs": [
    {
     "name": "stdout",
     "output_type": "stream",
     "text": [
      "Training performance \n",
      "    Accuracy  Recall  Precision   F1\n",
      "0       1.0     1.0        1.0  1.0\n"
     ]
    }
   ],
   "source": [
    "rf_model_train_perf=model_performance_classification_sklearn(rf,X_train,y_train)\n",
    "print(\"Training performance \\n\",rf_model_train_perf)"
   ]
  },
  {
   "cell_type": "code",
   "execution_count": 188,
   "metadata": {},
   "outputs": [
    {
     "name": "stdout",
     "output_type": "stream",
     "text": [
      "Testing performance \n",
      "    Accuracy  Recall  Precision      F1\n",
      "0  0.919421  0.6337   0.910526  0.7473\n"
     ]
    }
   ],
   "source": [
    "rf_model_test_perf=model_performance_classification_sklearn(rf,X_test,y_test)\n",
    "print(\"Testing performance \\n\",rf_model_test_perf)"
   ]
  },
  {
   "cell_type": "markdown",
   "metadata": {},
   "source": [
    "### Observation\n",
    "The Random Forest is giving a good accuracy and prediction and able to generalised well on test data in terms of precision "
   ]
  },
  {
   "cell_type": "markdown",
   "metadata": {},
   "source": [
    "# Tuning of Decision Tree, Random Forest and Bagging Classifier"
   ]
  },
  {
   "cell_type": "markdown",
   "metadata": {},
   "source": [
    "### Tuned Decision Tree "
   ]
  },
  {
   "cell_type": "code",
   "execution_count": 189,
   "metadata": {},
   "outputs": [
    {
     "data": {
      "text/plain": [
       "DecisionTreeClassifier(class_weight={0: 0.18, 1: 0.81}, max_depth=2,\n",
       "                       max_leaf_nodes=2, min_impurity_decrease=0.1,\n",
       "                       random_state=1)"
      ]
     },
     "execution_count": 189,
     "metadata": {},
     "output_type": "execute_result"
    }
   ],
   "source": [
    "# Choose the type of classifier. \n",
    "dtree_estimator = DecisionTreeClassifier(class_weight={0:0.18,1:0.81},random_state=1)\n",
    "\n",
    "# Grid of parameters to choose from\n",
    "parameters = {'max_depth': np.arange(2,30), \n",
    "              'min_samples_leaf': [1, 2, 5, 7, 10],\n",
    "              'max_leaf_nodes' : [2, 3, 5, 10,15],\n",
    "              'min_impurity_decrease': [0.0001,0.001,0.01,0.1]\n",
    "             }\n",
    "\n",
    "# Type of scoring used to compare parameter combinations\n",
    "scorer = metrics.make_scorer(metrics.recall_score)\n",
    "\n",
    "# Run the grid search\n",
    "grid_obj = GridSearchCV(dtree_estimator, parameters, scoring=scorer)\n",
    "grid_obj = grid_obj.fit(X_train, y_train)\n",
    "\n",
    "# Set the clf to the best combination of parameters\n",
    "dtree_estimator = grid_obj.best_estimator_\n",
    "\n",
    "# Fit the best algorithm to the data. \n",
    "dtree_estimator.fit(X_train, y_train)"
   ]
  },
  {
   "cell_type": "code",
   "execution_count": 190,
   "metadata": {},
   "outputs": [
    {
     "data": {
      "image/png": "[encoded data removed]",
      "text/plain": [
       "<Figure size 432x288 with 2 Axes>"
      ]
     },
     "metadata": {
      "needs_background": "light"
     },
     "output_type": "display_data"
    }
   ],
   "source": [
    "confusion_matrix_sklearn(dtree_estimator, X_test,y_test)"
   ]
  },
  {
   "cell_type": "code",
   "execution_count": 191,
   "metadata": {},
   "outputs": [
    {
     "name": "stdout",
     "output_type": "stream",
     "text": [
      "Training performance \n",
      "    Accuracy  Recall  Precision        F1\n",
      "0  0.188479     1.0   0.188479  0.317176\n"
     ]
    }
   ],
   "source": [
    "dtree_estimator_model_train_perf=model_performance_classification_sklearn(dtree_estimator, X_train,y_train)\n",
    "print(\"Training performance \\n\",dtree_estimator_model_train_perf)"
   ]
  },
  {
   "cell_type": "code",
   "execution_count": 192,
   "metadata": {},
   "outputs": [
    {
     "name": "stdout",
     "output_type": "stream",
     "text": [
      "Testing performance \n",
      "    Accuracy  Recall  Precision        F1\n",
      "0  0.188017     1.0   0.188017  0.316522\n"
     ]
    }
   ],
   "source": [
    "dtree_estimator_model_test_perf=model_performance_classification_sklearn(dtree_estimator, X_test, y_test)\n",
    "print(\"Testing performance \\n\",dtree_estimator_model_test_perf)"
   ]
  },
  {
   "cell_type": "markdown",
   "metadata": {},
   "source": [
    "### Observation\n",
    "Tuned Decision tree is not doing well on accuracy and precison in both the training and test data"
   ]
  },
  {
   "cell_type": "markdown",
   "metadata": {},
   "source": [
    "### Tuned Bagging Classifier "
   ]
  },
  {
   "cell_type": "code",
   "execution_count": 193,
   "metadata": {
    "scrolled": true
   },
   "outputs": [
    {
     "data": {
      "text/plain": [
       "GridSearchCV(cv=5, estimator=BaggingClassifier(random_state=1),\n",
       "             param_grid={'base_estimator': [DecisionTreeClassifier(class_weight={0: 0.18,\n",
       "                                                                                 1: 0.81},\n",
       "                                                                   random_state=1)],\n",
       "                         'max_features': [0.7, 0.8, 0.9, 1],\n",
       "                         'n_estimators': [5, 7, 15, 51, 101]},\n",
       "             scoring='recall')"
      ]
     },
     "execution_count": 193,
     "metadata": {},
     "output_type": "execute_result"
    }
   ],
   "source": [
    "# grid search for bagging classifier\n",
    "cl1 = DecisionTreeClassifier(class_weight={0:0.18,1:0.81},random_state=1)\n",
    "param_grid = {'base_estimator':[cl1],\n",
    "              'n_estimators':[5,7,15,51,101],\n",
    "              'max_features': [0.7,0.8,0.9,1]\n",
    "             }\n",
    "\n",
    "grid = GridSearchCV(BaggingClassifier(random_state=1,bootstrap=True), param_grid=param_grid, scoring = 'recall', cv = 5)\n",
    "grid.fit(X_train, y_train)"
   ]
  },
  {
   "cell_type": "code",
   "execution_count": 194,
   "metadata": {},
   "outputs": [
    {
     "data": {
      "text/plain": [
       "BaggingClassifier(base_estimator=DecisionTreeClassifier(class_weight={0: 0.18,\n",
       "                                                                      1: 0.81},\n",
       "                                                        random_state=1),\n",
       "                  max_features=1, n_estimators=51, random_state=1)"
      ]
     },
     "execution_count": 194,
     "metadata": {},
     "output_type": "execute_result"
    }
   ],
   "source": [
    "## getting the best estimator\n",
    "bagging_estimator  = grid.best_estimator_\n",
    "bagging_estimator.fit(X_train,y_train)"
   ]
  },
  {
   "cell_type": "code",
   "execution_count": 195,
   "metadata": {},
   "outputs": [
    {
     "data": {
      "image/png": "[encoded data removed]",
      "text/plain": [
       "<Figure size 432x288 with 2 Axes>"
      ]
     },
     "metadata": {
      "needs_background": "light"
     },
     "output_type": "display_data"
    }
   ],
   "source": [
    "confusion_matrix_sklearn(bagging_estimator, X_test,y_test)"
   ]
  },
  {
   "cell_type": "code",
   "execution_count": 196,
   "metadata": {},
   "outputs": [
    {
     "name": "stdout",
     "output_type": "stream",
     "text": [
      "Training performance \n",
      "    Accuracy   Recall  Precision        F1\n",
      "0  0.542688  0.88558   0.276961  0.421957\n"
     ]
    }
   ],
   "source": [
    "bagging_estimator_model_train_perf=model_performance_classification_sklearn(bagging_estimator, X_train,y_train)\n",
    "print(\"Training performance \\n\",bagging_estimator_model_train_perf)"
   ]
  },
  {
   "cell_type": "code",
   "execution_count": 197,
   "metadata": {},
   "outputs": [
    {
     "name": "stdout",
     "output_type": "stream",
     "text": [
      "Testing performance \n",
      "    Accuracy    Recall  Precision        F1\n",
      "0  0.509642  0.882784   0.261672  0.403685\n"
     ]
    }
   ],
   "source": [
    "bagging_estimator_model_test_perf=model_performance_classification_sklearn(bagging_estimator, X_test, y_test)\n",
    "print(\"Testing performance \\n\",bagging_estimator_model_test_perf)"
   ]
  },
  {
   "cell_type": "markdown",
   "metadata": {},
   "source": [
    "### Observation\n",
    "The Tuned bagging estimator did not do well in accuracy and precsion in training and test data "
   ]
  },
  {
   "cell_type": "markdown",
   "metadata": {},
   "source": [
    "## Tunned Random Forest "
   ]
  },
  {
   "cell_type": "code",
   "execution_count": 198,
   "metadata": {},
   "outputs": [
    {
     "name": "stdout",
     "output_type": "stream",
     "text": [
      "Wall time: 1h 39min\n"
     ]
    },
    {
     "data": {
      "text/plain": [
       "RandomForestClassifier(max_features=0.9, n_estimators=501, random_state=1)"
      ]
     },
     "execution_count": 198,
     "metadata": {},
     "output_type": "execute_result"
    }
   ],
   "source": [
    "%%time\n",
    "# Choose the type of classifier. \n",
    "rf_estimator = RandomForestClassifier(random_state=1)\n",
    "\n",
    "# Grid of parameters to choose from\n",
    "parameters = {  \n",
    "        \"n_estimators\": [110,251,501],\n",
    "        \"min_samples_leaf\": np.arange(1, 6,1),\n",
    "        \"max_features\": [0.7,0.9,'log2','auto'],\n",
    "        \"max_samples\": [0.7,0.9,None],\n",
    "}\n",
    "\n",
    "# Run the grid search\n",
    "grid_obj = GridSearchCV(rf_estimator, parameters, scoring='recall',cv=5)\n",
    "grid_obj = grid_obj.fit(X_train, y_train)\n",
    "\n",
    "# Set the clf to the best combination of parameters\n",
    "rf_estimator = grid_obj.best_estimator_\n",
    "\n",
    "# Fit the best algorithm to the data. \n",
    "rf_estimator.fit(X_train, y_train)"
   ]
  },
  {
   "cell_type": "code",
   "execution_count": 199,
   "metadata": {},
   "outputs": [
    {
     "data": {
      "image/png": "[encoded data removed]",
      "text/plain": [
       "<Figure size 432x288 with 2 Axes>"
      ]
     },
     "metadata": {
      "needs_background": "light"
     },
     "output_type": "display_data"
    }
   ],
   "source": [
    "confusion_matrix_sklearn(rf_estimator, X_test,y_test)"
   ]
  },
  {
   "cell_type": "code",
   "execution_count": 200,
   "metadata": {},
   "outputs": [
    {
     "name": "stdout",
     "output_type": "stream",
     "text": [
      "Training performance \n",
      "    Accuracy  Recall  Precision   F1\n",
      "0       1.0     1.0        1.0  1.0\n"
     ]
    }
   ],
   "source": [
    "rf_estimator_model_train_perf=model_performance_classification_sklearn(rf_estimator, X_train,y_train)\n",
    "print(\"Training performance \\n\",rf_estimator_model_train_perf)"
   ]
  },
  {
   "cell_type": "code",
   "execution_count": 201,
   "metadata": {},
   "outputs": [
    {
     "name": "stdout",
     "output_type": "stream",
     "text": [
      "Testing performance \n",
      "    Accuracy    Recall  Precision        F1\n",
      "0  0.920799  0.688645   0.862385  0.765784\n"
     ]
    }
   ],
   "source": [
    "rf_estimator_model_test_perf=model_performance_classification_sklearn(rf_estimator, X_test, y_test)\n",
    "print(\"Testing performance \\n\",rf_estimator_model_test_perf)"
   ]
  },
  {
   "cell_type": "markdown",
   "metadata": {},
   "source": [
    "## Observation \n",
    "The Tunned Random forest perfomed a bit better in accuracy  and the recall is better than other tuned model too on both trainin and test data"
   ]
  },
  {
   "cell_type": "markdown",
   "metadata": {},
   "source": [
    "# Boosting   Classifier Model      "
   ]
  },
  {
   "cell_type": "markdown",
   "metadata": {},
   "source": [
    "### AdaBoost Model "
   ]
  },
  {
   "cell_type": "code",
   "execution_count": 202,
   "metadata": {},
   "outputs": [
    {
     "name": "stdout",
     "output_type": "stream",
     "text": [
      "   Accuracy    Recall  Precision      F1\n",
      "0  0.857016  0.358934   0.753289  0.4862\n",
      "   Accuracy    Recall  Precision        F1\n",
      "0  0.837466  0.351648   0.619355  0.448598\n"
     ]
    },
    {
     "data": {
      "image/png": "[encoded data removed]",
      "text/plain": [
       "<Figure size 432x288 with 2 Axes>"
      ]
     },
     "metadata": {
      "needs_background": "light"
     },
     "output_type": "display_data"
    }
   ],
   "source": [
    "#Fitting the model\n",
    "ab_classifier = AdaBoostClassifier(random_state=1)\n",
    "ab_classifier.fit(X_train,y_train)\n",
    "\n",
    "#Calculating different metrics\n",
    "ab_classifier_model_train_perf=model_performance_classification_sklearn(ab_classifier,X_train,y_train)\n",
    "print(ab_classifier_model_train_perf)\n",
    "ab_classifier_model_test_perf=model_performance_classification_sklearn(ab_classifier,X_test,y_test)\n",
    "print(ab_classifier_model_test_perf)\n",
    "\n",
    "#Creating confusion matrix\n",
    "confusion_matrix_sklearn(ab_classifier,X_test,y_test)"
   ]
  },
  {
   "cell_type": "markdown",
   "metadata": {},
   "source": [
    "### Observation\n",
    "Overfitting reduced with this model but the precision has reduced significantly "
   ]
  },
  {
   "cell_type": "markdown",
   "metadata": {},
   "source": [
    "# Gradient Boosting Model"
   ]
  },
  {
   "cell_type": "code",
   "execution_count": 203,
   "metadata": {},
   "outputs": [
    {
     "name": "stdout",
     "output_type": "stream",
     "text": [
      "Training performance:\n",
      "    Accuracy    Recall  Precision     F1\n",
      "0   0.89483  0.504702   0.889503  0.644\n",
      "Testing performance:\n",
      "    Accuracy    Recall  Precision        F1\n",
      "0  0.870523  0.461538   0.754491  0.572727\n"
     ]
    },
    {
     "data": {
      "image/png": "[encoded data removed]",
      "text/plain": [
       "<Figure size 432x288 with 2 Axes>"
      ]
     },
     "metadata": {
      "needs_background": "light"
     },
     "output_type": "display_data"
    }
   ],
   "source": [
    "#Fitting the model\n",
    "gb_classifier = GradientBoostingClassifier(random_state=1)\n",
    "gb_classifier.fit(X_train,y_train)\n",
    "\n",
    "#Calculating different metrics\n",
    "gb_classifier_model_train_perf=model_performance_classification_sklearn(gb_classifier,X_train,y_train)\n",
    "print(\"Training performance:\\n\",gb_classifier_model_train_perf)\n",
    "gb_classifier_model_test_perf=model_performance_classification_sklearn(gb_classifier,X_test,y_test)\n",
    "print(\"Testing performance:\\n\",gb_classifier_model_test_perf)\n",
    "\n",
    "#Creating confusion matrix\n",
    "confusion_matrix_sklearn(gb_classifier,X_test,y_test)"
   ]
  },
  {
   "cell_type": "markdown",
   "metadata": {},
   "source": [
    "### Observation \n",
    "The model generalised well on the training and testing data but the precision is not so good even though is higher than the AdaBoost"
   ]
  },
  {
   "cell_type": "markdown",
   "metadata": {},
   "source": [
    "# XGBoost Classifier Model\n"
   ]
  },
  {
   "cell_type": "code",
   "execution_count": 204,
   "metadata": {},
   "outputs": [
    {
     "name": "stdout",
     "output_type": "stream",
     "text": [
      "Training performance:\n",
      "    Accuracy    Recall  Precision        F1\n",
      "0  0.999705  0.998433        1.0  0.999216\n",
      "Testing performance:\n",
      "    Accuracy    Recall  Precision        F1\n",
      "0  0.926309  0.721612   0.864035  0.786427\n",
      "Wall time: 1.65 s\n"
     ]
    },
    {
     "data": {
      "image/png": "[encoded data removed]",
      "text/plain": [
       "<Figure size 432x288 with 2 Axes>"
      ]
     },
     "metadata": {
      "needs_background": "light"
     },
     "output_type": "display_data"
    }
   ],
   "source": [
    "%%time\n",
    "#Fitting the model\n",
    "xgb_classifier = XGBClassifier(random_state=1, eval_metric='logloss')\n",
    "xgb_classifier.fit(X_train,y_train)\n",
    "\n",
    "#Calculating different metrics\n",
    "xgb_classifier_model_train_perf=model_performance_classification_sklearn(xgb_classifier,X_train,y_train)\n",
    "print(\"Training performance:\\n\",xgb_classifier_model_train_perf)\n",
    "xgb_classifier_model_test_perf=model_performance_classification_sklearn(xgb_classifier,X_test,y_test)\n",
    "print(\"Testing performance:\\n\",xgb_classifier_model_test_perf)\n",
    "\n",
    "#Creating confusion matrix\n",
    "confusion_matrix_sklearn(xgb_classifier,X_test,y_test)"
   ]
  },
  {
   "cell_type": "code",
   "execution_count": 205,
   "metadata": {},
   "outputs": [
    {
     "name": "stdout",
     "output_type": "stream",
     "text": [
      "Wall time: 3h 18min 40s\n"
     ]
    },
    {
     "data": {
      "text/plain": [
       "XGBClassifier(base_score=0.5, booster='gbtree', colsample_bylevel=0.7,\n",
       "              colsample_bynode=1, colsample_bytree=0.7,\n",
       "              enable_categorical=False, eval_metric='logloss', gamma=3,\n",
       "              gpu_id=-1, importance_type=None, interaction_constraints='',\n",
       "              learning_rate=0.2, max_delta_step=0, max_depth=6,\n",
       "              min_child_weight=1, missing=nan, monotone_constraints='()',\n",
       "              n_estimators=50, n_jobs=8, num_parallel_tree=1, predictor='auto',\n",
       "              random_state=1, reg_alpha=0, reg_lambda=1, scale_pos_weight=5,\n",
       "              subsample=1, tree_method='exact', validate_parameters=1,\n",
       "              verbosity=None)"
      ]
     },
     "execution_count": 205,
     "metadata": {},
     "output_type": "execute_result"
    }
   ],
   "source": [
    "%%time\n",
    "# Choose the type of classifier. \n",
    "xgb_tuned = XGBClassifier(random_state=1,eval_metric='logloss')\n",
    "\n",
    "# Grid of parameters to choose from\n",
    "## add from\n",
    "parameters = {\n",
    "    \"n_estimators\": np.arange(10,100,20),\n",
    "    \"scale_pos_weight\":[0,1,2,5],\n",
    "    \"subsample\":[0.5,0.7,0.9,1],\n",
    "    \"learning_rate\":[0.01,0.1,0.2,0.05],\n",
    "    \"gamma\":[0,1,3],\n",
    "    \"colsample_bytree\":[0.5,0.7,0.9,1],\n",
    "    \"colsample_bylevel\":[0.5,0.7,0.9,1]\n",
    "}\n",
    "\n",
    "# Type of scoring used to compare parameter combinations\n",
    "acc_scorer = metrics.make_scorer(metrics.recall_score)\n",
    "\n",
    "# Run the grid search\n",
    "grid_obj = GridSearchCV(xgb_tuned, parameters,scoring=acc_scorer,cv=5)\n",
    "grid_obj = grid_obj.fit(X_train, y_train)\n",
    "\n",
    "# Set the clf to the best combination of parameters\n",
    "xgb_tuned = grid_obj.best_estimator_\n",
    "\n",
    "# Fit the best algorithm to the data.\n",
    "xgb_tuned.fit(X_train, y_train)"
   ]
  },
  {
   "cell_type": "code",
   "execution_count": 216,
   "metadata": {},
   "outputs": [
    {
     "name": "stdout",
     "output_type": "stream",
     "text": [
      "Training performance:\n",
      "    Accuracy    Recall  Precision        F1\n",
      "0  0.967208  0.987461   0.859482  0.919037\n",
      "Testing performance:\n",
      "    Accuracy    Recall  Precision        F1\n",
      "0  0.883609  0.765568   0.665605  0.712095\n"
     ]
    }
   ],
   "source": [
    "xgbtunned_classifier_model_train_perf=model_performance_classification_sklearn(xgb_tuned,X_train,y_train)\n",
    "print(\"Training performance:\\n\",xgbtunned_classifier_model_train_perf)\n",
    "xgbtunned_classifier_model_test_perf=model_performance_classification_sklearn(xgb_tuned,X_test,y_test)\n",
    "print(\"Testing performance:\\n\",xgbtunned_classifier_model_test_perf)"
   ]
  },
  {
   "cell_type": "markdown",
   "metadata": {},
   "source": [
    "### Observation \n",
    "The model is not good as it overfits but gave a significant accuracy and precision in both training and testing data than all other boosting model earlier considered."
   ]
  },
  {
   "cell_type": "markdown",
   "metadata": {},
   "source": [
    "### Stacking Model"
   ]
  },
  {
   "cell_type": "code",
   "execution_count": 206,
   "metadata": {},
   "outputs": [
    {
     "data": {
      "text/plain": [
       "StackingClassifier(estimators=[('Random Forest',\n",
       "                                RandomForestClassifier(random_state=1)),\n",
       "                               ('Gradient Boosting',\n",
       "                                GradientBoostingClassifier(random_state=1)),\n",
       "                               ('Decision Tree',\n",
       "                                DecisionTreeClassifier(class_weight={0: 0.18,\n",
       "                                                                     1: 0.81},\n",
       "                                                       random_state=1))],\n",
       "                   final_estimator=XGBClassifier(base_score=0.5,\n",
       "                                                 booster='gbtree',\n",
       "                                                 colsample_bylevel=1,\n",
       "                                                 colsample_bynode=1,\n",
       "                                                 colsample_by...\n",
       "                                                 importance_type=None,\n",
       "                                                 interaction_constraints='',\n",
       "                                                 learning_rate=0.300000012,\n",
       "                                                 max_delta_step=0, max_depth=6,\n",
       "                                                 min_child_weight=1,\n",
       "                                                 missing=nan,\n",
       "                                                 monotone_constraints='()',\n",
       "                                                 n_estimators=100, n_jobs=8,\n",
       "                                                 num_parallel_tree=1,\n",
       "                                                 predictor='auto',\n",
       "                                                 random_state=1, reg_alpha=0,\n",
       "                                                 reg_lambda=1,\n",
       "                                                 scale_pos_weight=1,\n",
       "                                                 subsample=1,\n",
       "                                                 tree_method='exact',\n",
       "                                                 validate_parameters=1,\n",
       "                                                 verbosity=None))"
      ]
     },
     "execution_count": 206,
     "metadata": {},
     "output_type": "execute_result"
    }
   ],
   "source": [
    "#Using Random Forest, Gradient Boosting, Decision Tree as first set of model and XGboost as final \n",
    "estimators = [('Random Forest',rf), ('Gradient Boosting',gb_classifier), ('Decision Tree',dtree )]\n",
    "\n",
    "final_estimator = xgb_classifier\n",
    "\n",
    "stacking_classifier= StackingClassifier(estimators=estimators,final_estimator=final_estimator)\n",
    "\n",
    "stacking_classifier.fit(X_train,y_train)"
   ]
  },
  {
   "cell_type": "code",
   "execution_count": 207,
   "metadata": {},
   "outputs": [
    {
     "name": "stdout",
     "output_type": "stream",
     "text": [
      "Training performance:\n",
      "    Accuracy  Recall  Precision       F1\n",
      "0  0.998227     1.0   0.990683  0.99532\n",
      "Testing performance:\n",
      "    Accuracy    Recall  Precision        F1\n",
      "0  0.927686  0.798535   0.813433  0.805915\n"
     ]
    },
    {
     "data": {
      "image/png": "[encoded data removed]",
      "text/plain": [
       "<Figure size 432x288 with 2 Axes>"
      ]
     },
     "metadata": {
      "needs_background": "light"
     },
     "output_type": "display_data"
    }
   ],
   "source": [
    "#Calculating different metrics\n",
    "stacking_classifier_model_train_perf=model_performance_classification_sklearn(stacking_classifier,X_train,y_train)\n",
    "print(\"Training performance:\\n\",stacking_classifier_model_train_perf)\n",
    "stacking_classifier_model_test_perf=model_performance_classification_sklearn(stacking_classifier,X_test,y_test)\n",
    "print(\"Testing performance:\\n\",stacking_classifier_model_test_perf)\n",
    "\n",
    "#Creating confusion matrix\n",
    "confusion_matrix_sklearn(stacking_classifier,X_test,y_test)"
   ]
  },
  {
   "cell_type": "code",
   "execution_count": null,
   "metadata": {},
   "outputs": [],
   "source": []
  },
  {
   "cell_type": "markdown",
   "metadata": {},
   "source": [
    "## Observation \n",
    "The Model accuracy was good but the precsion on test data was not too good "
   ]
  },
  {
   "cell_type": "markdown",
   "metadata": {},
   "source": [
    "# Tunning Boosting Models "
   ]
  },
  {
   "cell_type": "markdown",
   "metadata": {},
   "source": [
    "### Tunned Adaboost "
   ]
  },
  {
   "cell_type": "code",
   "execution_count": 208,
   "metadata": {},
   "outputs": [
    {
     "data": {
      "text/plain": [
       "AdaBoostClassifier(base_estimator=DecisionTreeClassifier(max_depth=3),\n",
       "                   learning_rate=0.6, n_estimators=100, random_state=1)"
      ]
     },
     "execution_count": 208,
     "metadata": {},
     "output_type": "execute_result"
    }
   ],
   "source": [
    "# Choose the type of classifier. \n",
    "abc_tuned = AdaBoostClassifier(random_state=1)\n",
    "\n",
    "# Grid of parameters to choose from\n",
    "parameters = {\n",
    "    #Let's try different max_depth for base_estimator\n",
    "    \"base_estimator\":[DecisionTreeClassifier(max_depth=1),DecisionTreeClassifier(max_depth=2),\n",
    "                      DecisionTreeClassifier(max_depth=3)],\n",
    "    \"n_estimators\": np.arange(10,110,10),\n",
    "    \"learning_rate\":np.arange(0.1,2,0.1)\n",
    "}\n",
    "\n",
    "# Type of scoring used to compare parameter  combinations\n",
    "scorer = metrics.make_scorer(metrics.f1_score)\n",
    "\n",
    "# Run the grid search\n",
    "grid_obj = GridSearchCV(abc_tuned, parameters, scoring=scorer,cv=5)\n",
    "grid_obj = grid_obj.fit(X_train, y_train)\n",
    "\n",
    "# Set the clf to the best combination of parameters\n",
    "abc_tuned = grid_obj.best_estimator_\n",
    "\n",
    "# Fit the best algorithm to the data.\n",
    "abc_tuned.fit(X_train, y_train)"
   ]
  },
  {
   "cell_type": "code",
   "execution_count": 209,
   "metadata": {},
   "outputs": [
    {
     "name": "stdout",
     "output_type": "stream",
     "text": [
      "   Accuracy   Recall  Precision        F1\n",
      "0  0.974889  0.89185    0.97265  0.930499\n",
      "   Accuracy    Recall  Precision       F1\n",
      "0  0.889807  0.589744   0.770335  0.66805\n"
     ]
    },
    {
     "data": {
      "image/png": "[encoded data removed]",
      "text/plain": [
       "<Figure size 432x288 with 2 Axes>"
      ]
     },
     "metadata": {
      "needs_background": "light"
     },
     "output_type": "display_data"
    }
   ],
   "source": [
    "#Calculating different metrics\n",
    "abc_tuned_model_train_perf=model_performance_classification_sklearn(abc_tuned,X_train,y_train)\n",
    "print(abc_tuned_model_train_perf)\n",
    "abc_tuned_model_test_perf=model_performance_classification_sklearn(abc_tuned,X_test,y_test)\n",
    "print(abc_tuned_model_test_perf)\n",
    "\n",
    "#Creating confusion matrix\n",
    "confusion_matrix_sklearn(abc_tuned,X_test,y_test)"
   ]
  },
  {
   "cell_type": "markdown",
   "metadata": {},
   "source": [
    "### Observation\n",
    "Tunned AdaBoost is did better than the normal adaBoost in Accuracy and Precision, even though the scores are not so acceptable"
   ]
  },
  {
   "cell_type": "markdown",
   "metadata": {},
   "source": [
    "### Tunned Gradient Boosting"
   ]
  },
  {
   "cell_type": "code",
   "execution_count": 210,
   "metadata": {},
   "outputs": [
    {
     "data": {
      "text/plain": [
       "GradientBoostingClassifier(init=AdaBoostClassifier(random_state=1),\n",
       "                           max_features=0.8, n_estimators=250, random_state=1,\n",
       "                           subsample=0.9)"
      ]
     },
     "execution_count": 210,
     "metadata": {},
     "output_type": "execute_result"
    }
   ],
   "source": [
    "# Choose the type of classifier. \n",
    "gbc_tuned = GradientBoostingClassifier(init=AdaBoostClassifier(random_state=1),random_state=1)\n",
    "\n",
    "# Grid of parameters to choose from\n",
    "parameters = {\n",
    "    \"n_estimators\": [100,150,200,250],\n",
    "    \"subsample\":[0.8,0.9,1],\n",
    "    \"max_features\":[0.7,0.8,0.9,1]\n",
    "}\n",
    "\n",
    "# Type of scoring used to compare parameter combinations\n",
    "scorer = metrics.make_scorer(metrics.f1_score)\n",
    "\n",
    "# Run the grid search\n",
    "grid_obj = GridSearchCV(gbc_tuned, parameters, scoring=scorer,cv=5)\n",
    "grid_obj = grid_obj.fit(X_train, y_train)\n",
    "\n",
    "# Set the clf to the best combination of parameters\n",
    "gbc_tuned = grid_obj.best_estimator_\n",
    "\n",
    "# Fit the best algorithm to the data.\n",
    "gbc_tuned.fit(X_train, y_train)"
   ]
  },
  {
   "cell_type": "code",
   "execution_count": 211,
   "metadata": {},
   "outputs": [
    {
     "name": "stdout",
     "output_type": "stream",
     "text": [
      "Training performance:\n",
      "    Accuracy    Recall  Precision        F1\n",
      "0  0.928213  0.658307    0.94382  0.775623\n",
      "Testing performance:\n",
      "    Accuracy    Recall  Precision        F1\n",
      "0  0.874656  0.509158   0.743316  0.604348\n"
     ]
    },
    {
     "data": {
      "image/png": "[encoded data removed]",
      "text/plain": [
       "<Figure size 432x288 with 2 Axes>"
      ]
     },
     "metadata": {
      "needs_background": "light"
     },
     "output_type": "display_data"
    }
   ],
   "source": [
    "#Calculating different metrics\n",
    "gbc_tuned_model_train_perf=model_performance_classification_sklearn(gbc_tuned,X_train,y_train)\n",
    "print(\"Training performance:\\n\",gbc_tuned_model_train_perf)\n",
    "gbc_tuned_model_test_perf=model_performance_classification_sklearn(gbc_tuned,X_test,y_test)\n",
    "print(\"Testing performance:\\n\",gbc_tuned_model_test_perf)\n",
    "\n",
    "#Creating confusion matrix\n",
    "confusion_matrix_sklearn(gbc_tuned,X_test,y_test)"
   ]
  },
  {
   "cell_type": "markdown",
   "metadata": {},
   "source": [
    "### Observation \n",
    "The Tunned Gradient Boosting only has slight improvement from the normal gradient boosting \n"
   ]
  },
  {
   "cell_type": "code",
   "execution_count": 212,
   "metadata": {},
   "outputs": [
    {
     "name": "stdout",
     "output_type": "stream",
     "text": [
      "Test performance comparison:\n"
     ]
    },
    {
     "data": {
      "text/html": [
       "<div>\n",
       "<style scoped>\n",
       "    .dataframe tbody tr th:only-of-type {\n",
       "        vertical-align: middle;\n",
       "    }\n",
       "\n",
       "    .dataframe tbody tr th {\n",
       "        vertical-align: top;\n",
       "    }\n",
       "\n",
       "    .dataframe thead th {\n",
       "        text-align: right;\n",
       "    }\n",
       "</style>\n",
       "<table border=\"1\" class=\"dataframe\">\n",
       "  <thead>\n",
       "    <tr style=\"text-align: right;\">\n",
       "      <th></th>\n",
       "      <th>Decision Tree</th>\n",
       "      <th>Decision Tree Estimator</th>\n",
       "      <th>Bagging Classifier</th>\n",
       "      <th>Bagging Estimator Tuned</th>\n",
       "      <th>Random Forest Estimator</th>\n",
       "      <th>Random Forest Tuned</th>\n",
       "      <th>Adaboost Classifier</th>\n",
       "      <th>Adabosst Classifier Tuned</th>\n",
       "      <th>Gradient Boost Classifier</th>\n",
       "      <th>Gradient Boost Classifier Tuned</th>\n",
       "      <th>XGBoost Classifier</th>\n",
       "      <th>Stacking Classifier</th>\n",
       "    </tr>\n",
       "  </thead>\n",
       "  <tbody>\n",
       "    <tr>\n",
       "      <th>Accuracy</th>\n",
       "      <td>1.0</td>\n",
       "      <td>0.188479</td>\n",
       "      <td>0.993205</td>\n",
       "      <td>0.542688</td>\n",
       "      <td>1.0</td>\n",
       "      <td>1.0</td>\n",
       "      <td>0.857016</td>\n",
       "      <td>0.974889</td>\n",
       "      <td>0.894830</td>\n",
       "      <td>0.928213</td>\n",
       "      <td>0.999705</td>\n",
       "      <td>0.998227</td>\n",
       "    </tr>\n",
       "    <tr>\n",
       "      <th>Recall</th>\n",
       "      <td>1.0</td>\n",
       "      <td>1.000000</td>\n",
       "      <td>0.968652</td>\n",
       "      <td>0.885580</td>\n",
       "      <td>1.0</td>\n",
       "      <td>1.0</td>\n",
       "      <td>0.358934</td>\n",
       "      <td>0.891850</td>\n",
       "      <td>0.504702</td>\n",
       "      <td>0.658307</td>\n",
       "      <td>0.998433</td>\n",
       "      <td>1.000000</td>\n",
       "    </tr>\n",
       "    <tr>\n",
       "      <th>Precision</th>\n",
       "      <td>1.0</td>\n",
       "      <td>0.188479</td>\n",
       "      <td>0.995169</td>\n",
       "      <td>0.276961</td>\n",
       "      <td>1.0</td>\n",
       "      <td>1.0</td>\n",
       "      <td>0.753289</td>\n",
       "      <td>0.972650</td>\n",
       "      <td>0.889503</td>\n",
       "      <td>0.943820</td>\n",
       "      <td>1.000000</td>\n",
       "      <td>0.990683</td>\n",
       "    </tr>\n",
       "    <tr>\n",
       "      <th>F1</th>\n",
       "      <td>1.0</td>\n",
       "      <td>0.317176</td>\n",
       "      <td>0.981732</td>\n",
       "      <td>0.421957</td>\n",
       "      <td>1.0</td>\n",
       "      <td>1.0</td>\n",
       "      <td>0.486200</td>\n",
       "      <td>0.930499</td>\n",
       "      <td>0.644000</td>\n",
       "      <td>0.775623</td>\n",
       "      <td>0.999216</td>\n",
       "      <td>0.995320</td>\n",
       "    </tr>\n",
       "  </tbody>\n",
       "</table>\n",
       "</div>"
      ],
      "text/plain": [
       "           Decision Tree  Decision Tree Estimator  Bagging Classifier  \\\n",
       "Accuracy             1.0                 0.188479            0.993205   \n",
       "Recall               1.0                 1.000000            0.968652   \n",
       "Precision            1.0                 0.188479            0.995169   \n",
       "F1                   1.0                 0.317176            0.981732   \n",
       "\n",
       "           Bagging Estimator Tuned  Random Forest Estimator  \\\n",
       "Accuracy                  0.542688                      1.0   \n",
       "Recall                    0.885580                      1.0   \n",
       "Precision                 0.276961                      1.0   \n",
       "F1                        0.421957                      1.0   \n",
       "\n",
       "           Random Forest Tuned  Adaboost Classifier  \\\n",
       "Accuracy                   1.0             0.857016   \n",
       "Recall                     1.0             0.358934   \n",
       "Precision                  1.0             0.753289   \n",
       "F1                         1.0             0.486200   \n",
       "\n",
       "           Adabosst Classifier Tuned  Gradient Boost Classifier  \\\n",
       "Accuracy                    0.974889                   0.894830   \n",
       "Recall                      0.891850                   0.504702   \n",
       "Precision                   0.972650                   0.889503   \n",
       "F1                          0.930499                   0.644000   \n",
       "\n",
       "           Gradient Boost Classifier Tuned  XGBoost Classifier  \\\n",
       "Accuracy                          0.928213            0.999705   \n",
       "Recall                            0.658307            0.998433   \n",
       "Precision                         0.943820            1.000000   \n",
       "F1                                0.775623            0.999216   \n",
       "\n",
       "           Stacking Classifier  \n",
       "Accuracy              0.998227  \n",
       "Recall                1.000000  \n",
       "Precision             0.990683  \n",
       "F1                    0.995320  "
      ]
     },
     "execution_count": 212,
     "metadata": {},
     "output_type": "execute_result"
    }
   ],
   "source": [
    "models_train_comp_df = pd.concat(\n",
    "    [dtree_model_train_perf.T,dtree_estimator_model_train_perf.T, bagging_model_train_perf.T,bagging_estimator_model_train_perf.T, rf_model_train_perf.T,rf_estimator_model_train_perf.T, \n",
    "    ab_classifier_model_train_perf.T,abc_tuned_model_train_perf.T,gb_classifier_model_train_perf.T, gbc_tuned_model_train_perf.T,xgb_classifier_model_train_perf.T,stacking_classifier_model_train_perf.T ],\n",
    "    axis=1,\n",
    ")\n",
    "models_train_comp_df.columns = [\n",
    "    \"Decision Tree\",\n",
    "    \"Decision Tree Estimator\",\n",
    "    \"Bagging Classifier\",\n",
    "    \"Bagging Estimator Tuned\",\n",
    "    \"Random Forest Estimator\",\n",
    "    \"Random Forest Tuned\",\n",
    "    \"Adaboost Classifier\",\n",
    "    \"Adabosst Classifier Tuned\",\n",
    "    \"Gradient Boost Classifier\",\n",
    "    \"Gradient Boost Classifier Tuned\",\n",
    "    \"XGBoost Classifier\",\n",
    "    \"Stacking Classifier\"]\n",
    "print(\"Test performance comparison:\")\n",
    "models_train_comp_df"
   ]
  },
  {
   "cell_type": "code",
   "execution_count": 213,
   "metadata": {},
   "outputs": [
    {
     "name": "stdout",
     "output_type": "stream",
     "text": [
      "Test performance comparison:\n"
     ]
    },
    {
     "data": {
      "text/html": [
       "<div>\n",
       "<style scoped>\n",
       "    .dataframe tbody tr th:only-of-type {\n",
       "        vertical-align: middle;\n",
       "    }\n",
       "\n",
       "    .dataframe tbody tr th {\n",
       "        vertical-align: top;\n",
       "    }\n",
       "\n",
       "    .dataframe thead th {\n",
       "        text-align: right;\n",
       "    }\n",
       "</style>\n",
       "<table border=\"1\" class=\"dataframe\">\n",
       "  <thead>\n",
       "    <tr style=\"text-align: right;\">\n",
       "      <th></th>\n",
       "      <th>Decision Tree</th>\n",
       "      <th>Decision Tree Estimator</th>\n",
       "      <th>Bagging Classifier</th>\n",
       "      <th>Bagging Estimator Tuned</th>\n",
       "      <th>Random Forest Estimator</th>\n",
       "      <th>Random Forest Tuned</th>\n",
       "      <th>Adaboost Classifier</th>\n",
       "      <th>Adabosst Classifier Tuned</th>\n",
       "      <th>Gradient Boost Classifier</th>\n",
       "      <th>Gradient Boost Classifier Tuned</th>\n",
       "      <th>XGBoost Classifier</th>\n",
       "      <th>Stacking Classifier</th>\n",
       "    </tr>\n",
       "  </thead>\n",
       "  <tbody>\n",
       "    <tr>\n",
       "      <th>Accuracy</th>\n",
       "      <td>0.893251</td>\n",
       "      <td>0.188017</td>\n",
       "      <td>0.913912</td>\n",
       "      <td>0.509642</td>\n",
       "      <td>0.919421</td>\n",
       "      <td>0.920799</td>\n",
       "      <td>0.837466</td>\n",
       "      <td>0.889807</td>\n",
       "      <td>0.870523</td>\n",
       "      <td>0.874656</td>\n",
       "      <td>0.926309</td>\n",
       "      <td>0.927686</td>\n",
       "    </tr>\n",
       "    <tr>\n",
       "      <th>Recall</th>\n",
       "      <td>0.732601</td>\n",
       "      <td>1.000000</td>\n",
       "      <td>0.655678</td>\n",
       "      <td>0.882784</td>\n",
       "      <td>0.633700</td>\n",
       "      <td>0.688645</td>\n",
       "      <td>0.351648</td>\n",
       "      <td>0.589744</td>\n",
       "      <td>0.461538</td>\n",
       "      <td>0.509158</td>\n",
       "      <td>0.721612</td>\n",
       "      <td>0.798535</td>\n",
       "    </tr>\n",
       "    <tr>\n",
       "      <th>Precision</th>\n",
       "      <td>0.709220</td>\n",
       "      <td>0.188017</td>\n",
       "      <td>0.852381</td>\n",
       "      <td>0.261672</td>\n",
       "      <td>0.910526</td>\n",
       "      <td>0.862385</td>\n",
       "      <td>0.619355</td>\n",
       "      <td>0.770335</td>\n",
       "      <td>0.754491</td>\n",
       "      <td>0.743316</td>\n",
       "      <td>0.864035</td>\n",
       "      <td>0.813433</td>\n",
       "    </tr>\n",
       "    <tr>\n",
       "      <th>F1</th>\n",
       "      <td>0.720721</td>\n",
       "      <td>0.316522</td>\n",
       "      <td>0.741201</td>\n",
       "      <td>0.403685</td>\n",
       "      <td>0.747300</td>\n",
       "      <td>0.765784</td>\n",
       "      <td>0.448598</td>\n",
       "      <td>0.668050</td>\n",
       "      <td>0.572727</td>\n",
       "      <td>0.604348</td>\n",
       "      <td>0.786427</td>\n",
       "      <td>0.805915</td>\n",
       "    </tr>\n",
       "  </tbody>\n",
       "</table>\n",
       "</div>"
      ],
      "text/plain": [
       "           Decision Tree  Decision Tree Estimator  Bagging Classifier  \\\n",
       "Accuracy        0.893251                 0.188017            0.913912   \n",
       "Recall          0.732601                 1.000000            0.655678   \n",
       "Precision       0.709220                 0.188017            0.852381   \n",
       "F1              0.720721                 0.316522            0.741201   \n",
       "\n",
       "           Bagging Estimator Tuned  Random Forest Estimator  \\\n",
       "Accuracy                  0.509642                 0.919421   \n",
       "Recall                    0.882784                 0.633700   \n",
       "Precision                 0.261672                 0.910526   \n",
       "F1                        0.403685                 0.747300   \n",
       "\n",
       "           Random Forest Tuned  Adaboost Classifier  \\\n",
       "Accuracy              0.920799             0.837466   \n",
       "Recall                0.688645             0.351648   \n",
       "Precision             0.862385             0.619355   \n",
       "F1                    0.765784             0.448598   \n",
       "\n",
       "           Adabosst Classifier Tuned  Gradient Boost Classifier  \\\n",
       "Accuracy                    0.889807                   0.870523   \n",
       "Recall                      0.589744                   0.461538   \n",
       "Precision                   0.770335                   0.754491   \n",
       "F1                          0.668050                   0.572727   \n",
       "\n",
       "           Gradient Boost Classifier Tuned  XGBoost Classifier  \\\n",
       "Accuracy                          0.874656            0.926309   \n",
       "Recall                            0.509158            0.721612   \n",
       "Precision                         0.743316            0.864035   \n",
       "F1                                0.604348            0.786427   \n",
       "\n",
       "           Stacking Classifier  \n",
       "Accuracy              0.927686  \n",
       "Recall                0.798535  \n",
       "Precision             0.813433  \n",
       "F1                    0.805915  "
      ]
     },
     "execution_count": 213,
     "metadata": {},
     "output_type": "execute_result"
    }
   ],
   "source": [
    "models_test_comp_df = pd.concat(\n",
    "    [dtree_model_test_perf.T,dtree_estimator_model_test_perf.T, bagging_model_test_perf.T,bagging_estimator_model_test_perf.T, rf_model_test_perf.T,rf_estimator_model_test_perf.T, \n",
    "    ab_classifier_model_test_perf.T,abc_tuned_model_test_perf.T,gb_classifier_model_test_perf.T, gbc_tuned_model_test_perf.T,xgb_classifier_model_test_perf.T,stacking_classifier_model_test_perf.T ],\n",
    "    axis=1,\n",
    ")\n",
    "models_test_comp_df.columns = [\n",
    "    \"Decision Tree\",\n",
    "    \"Decision Tree Estimator\",\n",
    "    \"Bagging Classifier\",\n",
    "    \"Bagging Estimator Tuned\",\n",
    "    \"Random Forest Estimator\",\n",
    "    \"Random Forest Tuned\",\n",
    "    \"Adaboost Classifier\",\n",
    "    \"Adabosst Classifier Tuned\",\n",
    "    \"Gradient Boost Classifier\",\n",
    "    \"Gradient Boost Classifier Tuned\",\n",
    "    \"XGBoost Classifier\",\n",
    "    \"Stacking Classifier\"]\n",
    "print(\"Test performance comparison:\")\n",
    "models_test_comp_df"
   ]
  },
  {
   "cell_type": "markdown",
   "metadata": {},
   "source": [
    "### Observation\n",
    "Random Forest performs well in accuracy and precsion for both the training and testing data\n",
    "\n",
    "Decision tree estimator(Tuned) generalised well in both training and testing data even though it did not performed well\n",
    "\n",
    "Bagging Classifier (Tunned) generalised weill in both the training and testing data but the performance was not so good "
   ]
  },
  {
   "cell_type": "markdown",
   "metadata": {},
   "source": [
    "### Feature Importance "
   ]
  },
  {
   "cell_type": "code",
   "execution_count": 214,
   "metadata": {},
   "outputs": [
    {
     "data": {
      "image/png": "[encoded data removed]",
      "text/plain": [
       "<Figure size 864x864 with 1 Axes>"
      ]
     },
     "metadata": {
      "needs_background": "light"
     },
     "output_type": "display_data"
    }
   ],
   "source": [
    "#Estimate using the Random Forest \n",
    "feature_names = X_train.columns\n",
    "importances = rf.feature_importances_\n",
    "indices = np.argsort(importances)\n",
    "\n",
    "plt.figure(figsize=(12,12))\n",
    "plt.title('Feature Importances')\n",
    "plt.barh(range(len(indices)), importances[indices], color='violet', align='center')\n",
    "plt.yticks(range(len(indices)), [feature_names[i] for i in indices])\n",
    "plt.xlabel('Relative Importance')\n",
    "plt.show()"
   ]
  },
  {
   "cell_type": "markdown",
   "metadata": {},
   "source": [
    "### Observation\n",
    "Age, is the most important feature for prediction followed by Monthly income, Duration of Pitch, Passport, Number of Trips, and Number of follow ups"
   ]
  },
  {
   "cell_type": "markdown",
   "metadata": {},
   "source": [
    "# Business Insight and Recommendations "
   ]
  },
  {
   "cell_type": "markdown",
   "metadata": {},
   "source": [
    "* A predictive model has been built:\n",
    "\n",
    "  a) Which the company can deploy to identify customers who are more likely to purchase the new vacation package \n",
    "\n",
    "  b) Which the company can use to find the drivers of decisions in purchasing the vacation package. \n",
    "    \n",
    "  c) Upon which the company can take appropriate decision to build better target marketing process that would ensure apporpriate customers are targetted.\n",
    "\n",
    "\n",
    "* Factors that drives the decisions of customers towards purchasing vacation package are : Age, Monthy Income, Duration of Pitch, Passport, Number of Trips & Number of Follow up\n",
    "\n",
    "\n",
    "* Age : Young Adults around the age 25-40 years are the one that purchase vacation package more, this is logical as a lot of young adult want to explore and among them are several that are not married too with less load and expenses - The package being developed should consider the interest of the younger customers, the company can get information or survey to ensure they include the interest of the younger customers in the new package \n",
    "\n",
    "\n",
    "* Monthly Income: Customers in certain salary level (20,000 - 25,000) are the one that purchase the package most - The company should identify this people in this salary range and make provisions for them that can help to  key into the package, for instance they may want installmental payment considering other financial engagement they may have.\n",
    "\n",
    "\n",
    "* Duration of Pitch : Customers with higher duration of pitch purchase most, this is logical as this is one tool in marketing that could be harnessed - The company should employ or engage more marketers and eastablish a minimum pitch duration which would ensure purchase.\n",
    "\n",
    "\n",
    "* Passport : Customers with passport purchse the vacation package more, this is logical as people that go ahead to take their passports are more inclined to travel - The company can add passport processing as part of the package for those that do not have. \n",
    "\n",
    "\n",
    "* Number of Trips : The average number of trips is around 3 - The package should be developed to ensure the trip duration aligns with the most popular demand to ensure more customers would purchase it. \n",
    "\n",
    "\n",
    "* Number of Follow Ups : The higher the follow ups the higher the propability that a customer would purchase the package - The Company should improve on the follow up strategy and define the minimum most viable follow up that would give optimal value. \n"
   ]
  }
 ],
 "metadata": {
  "kernelspec": {
   "display_name": "Python 3 (ipykernel)",
   "language": "python",
   "name": "python3"
  },
  "language_info": {
   "codemirror_mode": {
    "name": "ipython",
    "version": 3
   },
   "file_extension": ".py",
   "mimetype": "text/x-python",
   "name": "python",
   "nbconvert_exporter": "python",
   "pygments_lexer": "ipython3",
   "version": "3.9.7"
  }
 },
 "nbformat": 4,
 "nbformat_minor": 4
}
